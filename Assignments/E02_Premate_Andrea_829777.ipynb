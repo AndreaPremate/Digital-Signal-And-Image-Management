{
  "nbformat": 4,
  "nbformat_minor": 0,
  "metadata": {
    "kernelspec": {
      "display_name": "Python 3",
      "language": "python",
      "name": "python3"
    },
    "language_info": {
      "codemirror_mode": {
        "name": "ipython",
        "version": 3
      },
      "file_extension": ".py",
      "mimetype": "text/x-python",
      "name": "python",
      "nbconvert_exporter": "python",
      "pygments_lexer": "ipython3",
      "version": "3.7.4"
    },
    "colab": {
      "provenance": []
    }
  },
  "cells": [
    {
      "cell_type": "markdown",
      "metadata": {
        "id": "o52KFEMANwpz"
      },
      "source": [
        "# **Digital Signal and Image Management - E02**<br/>\n",
        "**Master's Degree in Data Science (A.Y. 2022/2023)**<br/>\n",
        "**University of Milano - Bicocca**<br/>\n",
        "\n",
        "prof. Simone Bianco, \n",
        "dr. Marco Buzzelli"
      ]
    },
    {
      "cell_type": "code",
      "metadata": {
        "id": "hUKndU89Clzb"
      },
      "source": [
        "import os\n",
        "import numpy as np\n",
        "from time import time\n",
        "from scipy.io import wavfile as wav\n",
        "\n",
        "import matplotlib.pyplot as plt\n",
        "import IPython.display as ipd # Notebook only\n",
        "\n",
        "# Classification tools\n",
        "from sklearn.svm import SVC\n",
        "from sklearn.model_selection import train_test_split, GridSearchCV\n",
        "from sklearn.metrics import classification_report, confusion_matrix\n",
        "\n",
        "# File management\n",
        "from google.colab import drive\n",
        "import tarfile\n",
        "from shutil import copyfile\n",
        "\n",
        "# Frequency analysis\n",
        "from scipy.fft import fft, fftfreq, rfft, rfftfreq\n",
        "from scipy.signal import spectrogram\n",
        "from librosa.feature import melspectrogram, mfcc\n",
        "from librosa.display import specshow"
      ],
      "execution_count": 325,
      "outputs": []
    },
    {
      "cell_type": "markdown",
      "source": [
        "**Note:**\n",
        "* Before continuing, you must import this file into your own Google Drive:<br/>https://drive.google.com/file/d/1w9l6WnU-oQ-8IsY1NSRcWNulqcQ5DHFK/view?usp=sharing<br/>(Top-right corner -> Add shortcut to Drive -> My Drive -> Add shortcut here)\n",
        "* If the link no longer works, you can retrieve the original dataset from:<br/>https://github.com/Jakobovski/free-spoken-digit-dataset"
      ],
      "metadata": {
        "id": "lZenX6w_0VWc"
      }
    },
    {
      "cell_type": "code",
      "metadata": {
        "id": "NH3UMkSDDE0c",
        "colab": {
          "base_uri": "https://localhost:8080/"
        },
        "outputId": "b0a39a22-2bc1-49ec-8672-43a5c8082fa6"
      },
      "source": [
        "# Link Google Drive account, transfer dataset, and extract files\n",
        "drive.mount('/content/gdrive')\n",
        "copyfile('gdrive/My Drive/recordings.tar', 'recordings.tar')\n",
        "tar = tarfile.open('recordings.tar')\n",
        "tar.extractall()\n",
        "tar.close()"
      ],
      "execution_count": 326,
      "outputs": [
        {
          "output_type": "stream",
          "name": "stdout",
          "text": [
            "Drive already mounted at /content/gdrive; to attempt to forcibly remount, call drive.mount(\"/content/gdrive\", force_remount=True).\n"
          ]
        }
      ]
    },
    {
      "cell_type": "code",
      "source": [
        "# Import file\n",
        "sound_rate, sound_data = wav.read('recordings/0_jackson_0.wav')\n",
        "# Play the signal\n",
        "ipd.Audio(sound_data, rate=sound_rate)"
      ],
      "metadata": {
        "colab": {
          "base_uri": "https://localhost:8080/",
          "height": 75
        },
        "id": "QsCJiGXxLZDs",
        "outputId": "50767a57-0519-4cb6-cd38-1aace1bcd253"
      },
      "execution_count": 327,
      "outputs": [
        {
          "output_type": "execute_result",
          "data": {
            "text/plain": [
              "<IPython.lib.display.Audio object>"
            ],
            "text/html": [
              "\n",
              "                <audio  controls=\"controls\" >\n",
              "                    <source src=\"data:audio/wav;base64,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\" type=\"audio/wav\" />\n",
              "                    Your browser does not support the audio element.\n",
              "                </audio>\n",
              "              "
            ]
          },
          "metadata": {},
          "execution_count": 327
        }
      ]
    },
    {
      "cell_type": "code",
      "source": [
        "# Shape of the audio array: 5148 values, one dimension\n",
        "sound_data.shape"
      ],
      "metadata": {
        "colab": {
          "base_uri": "https://localhost:8080/"
        },
        "id": "qfGVj6ng8XSp",
        "outputId": "04e67f9b-1de8-4f08-c04b-d965b785a4a9"
      },
      "execution_count": 328,
      "outputs": [
        {
          "output_type": "execute_result",
          "data": {
            "text/plain": [
              "(5148,)"
            ]
          },
          "metadata": {},
          "execution_count": 328
        }
      ]
    },
    {
      "cell_type": "code",
      "source": [
        "# Sampling rate: 8000 samples per second\n",
        "sound_rate"
      ],
      "metadata": {
        "colab": {
          "base_uri": "https://localhost:8080/"
        },
        "id": "E8wE5h0L8YzB",
        "outputId": "067ae165-a889-46bf-e0da-4cc3dbbc2694"
      },
      "execution_count": 329,
      "outputs": [
        {
          "output_type": "execute_result",
          "data": {
            "text/plain": [
              "8000"
            ]
          },
          "metadata": {},
          "execution_count": 329
        }
      ]
    },
    {
      "cell_type": "markdown",
      "source": [
        "## Data representation"
      ],
      "metadata": {
        "id": "8dQwt18gSjSr"
      }
    },
    {
      "cell_type": "markdown",
      "source": [
        "### Temporal representation"
      ],
      "metadata": {
        "id": "urChv9BQSm4b"
      }
    },
    {
      "cell_type": "code",
      "source": [
        "# Convert sample index into the corresponding timestamp, for the plot x-axis\n",
        "sound_time = np.arange(sound_data.shape[0])*1.0/sound_rate"
      ],
      "metadata": {
        "id": "52MM-lMQ8Byw"
      },
      "execution_count": 330,
      "outputs": []
    },
    {
      "cell_type": "code",
      "source": [
        "# Visualizing a signal (temporal representation)\n",
        "plt.plot(sound_time, sound_data);\n",
        "plt.xlabel('Time (s)')\n",
        "plt.ylabel('Amplitude')\n",
        "plt.title('Temporal representation')\n",
        "plt.show()"
      ],
      "metadata": {
        "colab": {
          "base_uri": "https://localhost:8080/",
          "height": 295
        },
        "id": "ZrwN62g1NJks",
        "outputId": "6bf4efe2-33b6-402a-b31c-22bf73c032f5"
      },
      "execution_count": 331,
      "outputs": [
        {
          "output_type": "display_data",
          "data": {
            "text/plain": [
              "<Figure size 432x288 with 1 Axes>"
            ],
            "image/png": "[encoded data removed]"
          },
          "metadata": {
            "needs_background": "light"
          }
        }
      ]
    },
    {
      "cell_type": "markdown",
      "source": [
        "https://numpy.org/doc/stable/reference/generated/numpy.arange.html<br/>\n",
        "https://matplotlib.org/stable/api/_as_gen/matplotlib.pyplot.plot.html"
      ],
      "metadata": {
        "id": "WDD2WgWO5XQA"
      }
    },
    {
      "cell_type": "markdown",
      "source": [
        "**Note:**\n",
        "* This is a direct representation of how audio tracks are commonly stored, i.e. in temporal representation.\n",
        "  * A vector of values that continually oscillates from positive to negative, changing in amplitude.\n",
        "* By knowing the sampling rate, we can provide an accurate x-axis for the visualization:\n",
        "  * If the audio represents 8000 samples per second, we want the 8000th sample to correspond to be labeled as \"1\" second.\n",
        "  * So we generate all sample indices, and then divide each sample index by 8000."
      ],
      "metadata": {
        "id": "EeLfDL2J5YYH"
      }
    },
    {
      "cell_type": "markdown",
      "metadata": {
        "id": "JU8aXfPgRfh8"
      },
      "source": [
        "### Frequency representation (Fast Fourier Transform)"
      ]
    },
    {
      "cell_type": "code",
      "metadata": {
        "id": "TCdhUIsqRfiM"
      },
      "source": [
        "# Conversion into the frequency domain\n",
        "sound_fft = fft(sound_data)\n",
        "sound_freqs = fftfreq(len(sound_data), 1.0/sound_rate)"
      ],
      "execution_count": 332,
      "outputs": []
    },
    {
      "cell_type": "code",
      "source": [
        "# Shape of the temporal representation\n",
        "sound_data.shape"
      ],
      "metadata": {
        "colab": {
          "base_uri": "https://localhost:8080/"
        },
        "id": "Opz_44TY8QnI",
        "outputId": "d466c109-f0d8-4bee-b0d2-12e440bf722d"
      },
      "execution_count": 333,
      "outputs": [
        {
          "output_type": "execute_result",
          "data": {
            "text/plain": [
              "(5148,)"
            ]
          },
          "metadata": {},
          "execution_count": 333
        }
      ]
    },
    {
      "cell_type": "code",
      "source": [
        "# Shape of the frequency representation\n",
        "sound_fft.shape"
      ],
      "metadata": {
        "colab": {
          "base_uri": "https://localhost:8080/"
        },
        "id": "EzQLp_Ya8SGA",
        "outputId": "003fdddd-11c4-4196-9621-eb7c5dd0b008"
      },
      "execution_count": 334,
      "outputs": [
        {
          "output_type": "execute_result",
          "data": {
            "text/plain": [
              "(5148,)"
            ]
          },
          "metadata": {},
          "execution_count": 334
        }
      ]
    },
    {
      "cell_type": "code",
      "source": [
        "# Visualizing a signal (frequency representation)\n",
        "plt.plot(sound_freqs, np.real(sound_fft));\n",
        "plt.xlabel('Frequency (Hz)');\n",
        "plt.ylabel('Amplitude')\n",
        "plt.title('Frequency representation (Fourier)')\n",
        "plt.show()"
      ],
      "metadata": {
        "colab": {
          "base_uri": "https://localhost:8080/",
          "height": 295
        },
        "id": "vPX_7Cys7vFJ",
        "outputId": "8f898917-578d-40a4-ac63-13ce858acd38"
      },
      "execution_count": 335,
      "outputs": [
        {
          "output_type": "display_data",
          "data": {
            "text/plain": [
              "<Figure size 432x288 with 1 Axes>"
            ],
            "image/png": "[encoded data removed]"
          },
          "metadata": {
            "needs_background": "light"
          }
        }
      ]
    },
    {
      "cell_type": "markdown",
      "source": [
        "**Note**:\n",
        "* Similarly as with the temporal representation, we can provide an accurate x-axis for the plot, although this time we rely on an external function `fftfreq()`.\n",
        "  * The values returned by `fftfreq()` are \"out of order\": if you directly plot `sound_fft` without proper x-axis, you can see in which order the original vector is computed: frequencies 0 to 4000Hz, and then frequencies -4000Hz to 0.\n",
        "* For real-valued input data (as is our case), the discrete Fourier transform will always return a symmetric output.\n",
        "  * For many practical applications, therefore, we can use the `rfft()` variant, which returns only half the frequency spectrum.\n",
        "  * The `np.real(sound_fft)` used when plotting refers to the fact that the *output* is in practice real, although the computation generates complex data, so we want to keep only the real part."
      ],
      "metadata": {
        "id": "syvNkI1BCP5h"
      }
    },
    {
      "cell_type": "markdown",
      "source": [
        "https://docs.scipy.org/doc/scipy/reference/generated/scipy.fft.fft.html<br/>\n",
        "https://docs.scipy.org/doc/scipy/reference/generated/scipy.fft.fftfreq.html"
      ],
      "metadata": {
        "id": "bxe2UB6U-rQB"
      }
    },
    {
      "cell_type": "code",
      "source": [
        "# Conversion into the frequency domain for real input data\n",
        "sound_rfft = rfft(sound_data)\n",
        "sound_rfreqs = rfftfreq(len(sound_data), 1.0/sound_rate)"
      ],
      "metadata": {
        "id": "EqzLweVjBn87"
      },
      "execution_count": 336,
      "outputs": []
    },
    {
      "cell_type": "code",
      "source": [
        "# Shape of the frequency representation\n",
        "sound_rfft.shape"
      ],
      "metadata": {
        "colab": {
          "base_uri": "https://localhost:8080/"
        },
        "id": "N-d1AwPJEtRK",
        "outputId": "9708dbb1-f8a5-4599-e223-d0af9cfad669"
      },
      "execution_count": 337,
      "outputs": [
        {
          "output_type": "execute_result",
          "data": {
            "text/plain": [
              "(2575,)"
            ]
          },
          "metadata": {},
          "execution_count": 337
        }
      ]
    },
    {
      "cell_type": "code",
      "source": [
        "# Visualizing the frequency signal\n",
        "plt.plot(sound_rfreqs, np.real(sound_rfft));\n",
        "plt.xlabel('Frequency (Hz)');\n",
        "plt.ylabel('Amplitude')\n",
        "plt.title('Frequency representation (Fourier)')\n",
        "plt.show()"
      ],
      "metadata": {
        "colab": {
          "base_uri": "https://localhost:8080/",
          "height": 295
        },
        "id": "OoLnRb-dB9vZ",
        "outputId": "0196e1a1-2ecf-49a5-a22c-ad8777f61344"
      },
      "execution_count": 338,
      "outputs": [
        {
          "output_type": "display_data",
          "data": {
            "text/plain": [
              "<Figure size 432x288 with 1 Axes>"
            ],
            "image/png": "[encoded data removed]"
          },
          "metadata": {
            "needs_background": "light"
          }
        }
      ]
    },
    {
      "cell_type": "markdown",
      "source": [
        "https://docs.scipy.org/doc/scipy/reference/generated/scipy.fft.rfft.html<br/>\n",
        "https://docs.scipy.org/doc/scipy/reference/generated/scipy.fft.rfftfreq.html"
      ],
      "metadata": {
        "id": "2hw0dq5S_CJM"
      }
    },
    {
      "cell_type": "markdown",
      "source": [
        "### Temporal/Frequency representation (Spectrogram)"
      ],
      "metadata": {
        "id": "0VX6a4J4Sx_8"
      }
    },
    {
      "cell_type": "code",
      "source": [
        "# Spectrogram computation (with default parameters)\n",
        "[spec_freqs, spec_times, spec] = spectrogram(sound_data, fs=sound_rate)"
      ],
      "metadata": {
        "id": "l4sBTrmZHxdn"
      },
      "execution_count": 339,
      "outputs": []
    },
    {
      "cell_type": "markdown",
      "source": [
        "https://docs.scipy.org/doc/scipy/reference/generated/scipy.signal.spectrogram.html<br/>"
      ],
      "metadata": {
        "id": "t52az-fwT49E"
      }
    },
    {
      "cell_type": "markdown",
      "source": [
        "**Note:**\n",
        "* The spectrogram is computed by splitting the audio track into segments, and computing the Fourier transform individually for each segment (instead of once on the whole track).\n",
        "  * This is why you end up with an additional dimension:\n",
        "  * For each time segment (column), you have its own Fourier description (rows).\n",
        "* This is sometimes also called a Short-Term Fourier Transform\n",
        "* The time segments can have different size, and different overlaps.\n",
        "  * We are using default parameters, which are determined automatically with a heuristic."
      ],
      "metadata": {
        "id": "l_eaXnXRT9zI"
      }
    },
    {
      "cell_type": "code",
      "source": [
        "# Shape of the output spectrogram\n",
        "np.array(spec).shape"
      ],
      "metadata": {
        "colab": {
          "base_uri": "https://localhost:8080/"
        },
        "id": "jR0s-rkMH-5W",
        "outputId": "ebfd91cf-cead-4a6c-ee1a-24b46ed0ae14"
      },
      "execution_count": 340,
      "outputs": [
        {
          "output_type": "execute_result",
          "data": {
            "text/plain": [
              "(129, 22)"
            ]
          },
          "metadata": {},
          "execution_count": 340
        }
      ]
    },
    {
      "cell_type": "code",
      "source": [
        "# Frequency values associated to the 129 rows of `spec`\n",
        "spec_freqs"
      ],
      "metadata": {
        "colab": {
          "base_uri": "https://localhost:8080/"
        },
        "id": "-gr3bfZFIIng",
        "outputId": "bd27c1d4-04d2-47f2-bca6-601ac01de626"
      },
      "execution_count": 341,
      "outputs": [
        {
          "output_type": "execute_result",
          "data": {
            "text/plain": [
              "array([   0.  ,   31.25,   62.5 ,   93.75,  125.  ,  156.25,  187.5 ,\n",
              "        218.75,  250.  ,  281.25,  312.5 ,  343.75,  375.  ,  406.25,\n",
              "        437.5 ,  468.75,  500.  ,  531.25,  562.5 ,  593.75,  625.  ,\n",
              "        656.25,  687.5 ,  718.75,  750.  ,  781.25,  812.5 ,  843.75,\n",
              "        875.  ,  906.25,  937.5 ,  968.75, 1000.  , 1031.25, 1062.5 ,\n",
              "       1093.75, 1125.  , 1156.25, 1187.5 , 1218.75, 1250.  , 1281.25,\n",
              "       1312.5 , 1343.75, 1375.  , 1406.25, 1437.5 , 1468.75, 1500.  ,\n",
              "       1531.25, 1562.5 , 1593.75, 1625.  , 1656.25, 1687.5 , 1718.75,\n",
              "       1750.  , 1781.25, 1812.5 , 1843.75, 1875.  , 1906.25, 1937.5 ,\n",
              "       1968.75, 2000.  , 2031.25, 2062.5 , 2093.75, 2125.  , 2156.25,\n",
              "       2187.5 , 2218.75, 2250.  , 2281.25, 2312.5 , 2343.75, 2375.  ,\n",
              "       2406.25, 2437.5 , 2468.75, 2500.  , 2531.25, 2562.5 , 2593.75,\n",
              "       2625.  , 2656.25, 2687.5 , 2718.75, 2750.  , 2781.25, 2812.5 ,\n",
              "       2843.75, 2875.  , 2906.25, 2937.5 , 2968.75, 3000.  , 3031.25,\n",
              "       3062.5 , 3093.75, 3125.  , 3156.25, 3187.5 , 3218.75, 3250.  ,\n",
              "       3281.25, 3312.5 , 3343.75, 3375.  , 3406.25, 3437.5 , 3468.75,\n",
              "       3500.  , 3531.25, 3562.5 , 3593.75, 3625.  , 3656.25, 3687.5 ,\n",
              "       3718.75, 3750.  , 3781.25, 3812.5 , 3843.75, 3875.  , 3906.25,\n",
              "       3937.5 , 3968.75, 4000.  ])"
            ]
          },
          "metadata": {},
          "execution_count": 341
        }
      ]
    },
    {
      "cell_type": "code",
      "source": [
        "# Time values associated to the 22 columns of `spec`\n",
        "spec_times"
      ],
      "metadata": {
        "colab": {
          "base_uri": "https://localhost:8080/"
        },
        "id": "-Z3NWXNTIPGd",
        "outputId": "5d6b396f-1d9f-4b2a-d0db-cec17022360e"
      },
      "execution_count": 342,
      "outputs": [
        {
          "output_type": "execute_result",
          "data": {
            "text/plain": [
              "array([0.016, 0.044, 0.072, 0.1  , 0.128, 0.156, 0.184, 0.212, 0.24 ,\n",
              "       0.268, 0.296, 0.324, 0.352, 0.38 , 0.408, 0.436, 0.464, 0.492,\n",
              "       0.52 , 0.548, 0.576, 0.604])"
            ]
          },
          "metadata": {},
          "execution_count": 342
        }
      ]
    },
    {
      "cell_type": "code",
      "source": [
        "# Spectrogram visualization\n",
        "plt.imshow(spec, extent=[spec_times[0], spec_times[-1], spec_freqs[0], spec_freqs[-1]], origin='lower', aspect='auto', interpolation='nearest')\n",
        "plt.xlabel('Time slots (s)')\n",
        "plt.ylabel('Frequencies (Hz)')\n",
        "plt.title('Spectrogram')\n",
        "plt.colorbar()\n",
        "plt.show()"
      ],
      "metadata": {
        "colab": {
          "base_uri": "https://localhost:8080/",
          "height": 295
        },
        "id": "JKnoinZJM6PG",
        "outputId": "102fb01c-e979-4dc4-82fb-3b59c44b6ef7"
      },
      "execution_count": 343,
      "outputs": [
        {
          "output_type": "display_data",
          "data": {
            "text/plain": [
              "<Figure size 432x288 with 2 Axes>"
            ],
            "image/png": "[encoded data removed]"
          },
          "metadata": {
            "needs_background": "light"
          }
        }
      ]
    },
    {
      "cell_type": "markdown",
      "source": [
        "https://matplotlib.org/stable/api/_as_gen/matplotlib.axes.Axes.imshow.html<br/>\n",
        "https://matplotlib.org/stable/tutorials/intermediate/imshow_extent.html<br/>\n",
        "https://matplotlib.org/stable/api/_as_gen/matplotlib.axes.Axes.set_aspect.html<br/>\n",
        "https://matplotlib.org/stable/gallery/images_contours_and_fields/interpolation_methods.html"
      ],
      "metadata": {
        "id": "VIaCq7oSTN_j"
      }
    },
    {
      "cell_type": "markdown",
      "source": [
        "**Note:**\n",
        "* Having two dimensions, we can visualize the spectrogram as an image.\n",
        "* For the sake of precision, we are providing additional information to the `imshow()` function:\n",
        "  * `extent`: specifies the range of the x and y axes, instead of using integer indices starting from 1.\n",
        "  * `aspect` (`'auto'`): even though the two axes have different order of magnitudes, they are stretched so that they are both visible.\n",
        "  * `interpolation`: whether and how to smooth the data for visualization (not used here)."
      ],
      "metadata": {
        "id": "3w-j6RSDUjjX"
      }
    },
    {
      "cell_type": "markdown",
      "source": [
        "### Temporal/Frequency representation (Mel Spectrogram)"
      ],
      "metadata": {
        "id": "qtVxliaUTjBH"
      }
    },
    {
      "cell_type": "code",
      "source": [
        "# Mel spectrogram computation (with default parameters)\n",
        "mel = melspectrogram(y=sound_data*1.0, sr=sound_rate)"
      ],
      "metadata": {
        "id": "P96Hqnf9aXo0"
      },
      "execution_count": 344,
      "outputs": []
    },
    {
      "cell_type": "markdown",
      "source": [
        "https://librosa.org/doc/latest/generated/librosa.feature.melspectrogram.html"
      ],
      "metadata": {
        "id": "vsB2_rFtTmoq"
      }
    },
    {
      "cell_type": "code",
      "source": [
        "# Shape of the resulting Mel spectrogram\n",
        "mel.shape"
      ],
      "metadata": {
        "colab": {
          "base_uri": "https://localhost:8080/"
        },
        "id": "2PgPqNaDbydx",
        "outputId": "a1e3e0bf-3214-45c0-897f-bc003137c1bf"
      },
      "execution_count": 345,
      "outputs": [
        {
          "output_type": "execute_result",
          "data": {
            "text/plain": [
              "(128, 11)"
            ]
          },
          "metadata": {},
          "execution_count": 345
        }
      ]
    },
    {
      "cell_type": "code",
      "source": [
        "# Mel spectrogram visualization\n",
        "plt.imshow(mel, extent=[spec_times[0], spec_times[-1], 0, 129], origin='lower', aspect='auto', interpolation='nearest')\n",
        "plt.xlabel('Time slots (s)')\n",
        "plt.ylabel('Frequencies (index)')\n",
        "plt.title('Mel Spectrogram')\n",
        "plt.colorbar()\n",
        "plt.show()"
      ],
      "metadata": {
        "colab": {
          "base_uri": "https://localhost:8080/",
          "height": 295
        },
        "id": "D0PSz94mb1Sw",
        "outputId": "787e7af4-07b2-4985-9f7d-fb357714efdb"
      },
      "execution_count": 346,
      "outputs": [
        {
          "output_type": "display_data",
          "data": {
            "text/plain": [
              "<Figure size 432x288 with 2 Axes>"
            ],
            "image/png": "[encoded data removed]"
          },
          "metadata": {
            "needs_background": "light"
          }
        }
      ]
    },
    {
      "cell_type": "markdown",
      "source": [
        "**Note:**\n",
        "* The Mel representation accounts for the fact that we (humans) do not perceive frequencies linearly.\n",
        "* A Mel spectrogram is computed by redistributing Hertz frequencies into Mel frequencies using an appropriate matrix multiplication.\n",
        "* The `melspectrogram` function can also be invoked by providing as input a regular spectrogram.\n",
        "* To display the Mel spectrogram with accurate y-axis values, we resort to a built-in librosa function `specshow`."
      ],
      "metadata": {
        "id": "nzLEgBDQVjvr"
      }
    },
    {
      "cell_type": "code",
      "source": [
        "# Mel spectrogram visualization (with librosa)\n",
        "specshow(mel, x_axis='time', y_axis='mel', sr=sound_rate)\n",
        "plt.xlabel('Time slots (s)')\n",
        "plt.ylabel('Frequencies (Mel)')\n",
        "plt.title('Mel spectrogram')\n",
        "plt.colorbar()\n",
        "plt.show()"
      ],
      "metadata": {
        "colab": {
          "base_uri": "https://localhost:8080/",
          "height": 295
        },
        "id": "EQ3BaL89aApA",
        "outputId": "a94bc4a5-da2c-49c8-d289-f58491707d9d"
      },
      "execution_count": 347,
      "outputs": [
        {
          "output_type": "display_data",
          "data": {
            "text/plain": [
              "<Figure size 432x288 with 2 Axes>"
            ],
            "image/png": "[encoded data removed]"
          },
          "metadata": {
            "needs_background": "light"
          }
        }
      ]
    },
    {
      "cell_type": "markdown",
      "source": [
        "https://librosa.org/doc/latest/generated/librosa.display.specshow.html"
      ],
      "metadata": {
        "id": "Spv5tjOXpY92"
      }
    },
    {
      "cell_type": "markdown",
      "source": [
        "### Cepstral representation (MFCC)\n",
        "MFCC: Mel-Frequency Cepstral Coefficients"
      ],
      "metadata": {
        "id": "wkZDooQ8TjaW"
      }
    },
    {
      "cell_type": "code",
      "metadata": {
        "id": "G9ippbIwCl0Q"
      },
      "source": [
        "# MFCC computation with default parameters\n",
        "mfccs = mfcc(sound_data*1.0, sr=sound_rate)"
      ],
      "execution_count": 348,
      "outputs": []
    },
    {
      "cell_type": "code",
      "source": [
        "# Shape of the resulting MFCC matrix\n",
        "mfccs.shape"
      ],
      "metadata": {
        "colab": {
          "base_uri": "https://localhost:8080/"
        },
        "id": "KzACe8KDZ1Rl",
        "outputId": "dd21254b-b468-44f5-a3d7-751be4cf0328"
      },
      "execution_count": 349,
      "outputs": [
        {
          "output_type": "execute_result",
          "data": {
            "text/plain": [
              "(20, 11)"
            ]
          },
          "metadata": {},
          "execution_count": 349
        }
      ]
    },
    {
      "cell_type": "markdown",
      "source": [
        "https://librosa.org/doc/latest/generated/librosa.feature.mfcc.html"
      ],
      "metadata": {
        "id": "Mfs3u3JITtpK"
      }
    },
    {
      "cell_type": "markdown",
      "metadata": {
        "id": "Cuw-Eu1ICl0T"
      },
      "source": [
        "**Note:**\n",
        "* The MFCC coefficients are based on the Fourier description of a Mel spectrogram (which, in turn, was obtained via Fourier analysis)\n",
        "  * We are **not** applying the inverse Fourier transform, rather applying Fourier twice\n",
        "  * Additional transformations are involved, such as logarithmic scaling.\n",
        "* The result is still a two-dimensional matrix:\n",
        "  * The first dimension size (20) depends on the choice of the frequencies/coefficients.\n",
        "  * The second dimension size (11) depends on the duration of the audio track."
      ]
    },
    {
      "cell_type": "code",
      "source": [
        "# Visualization via librosa's specshow\n",
        "specshow(mfccs, sr=sound_rate, x_axis='time')\n",
        "plt.xlabel('Time slots (s)')\n",
        "plt.ylabel('Coefficients')\n",
        "plt.title('MFCC')\n",
        "plt.colorbar()\n",
        "plt.show()"
      ],
      "metadata": {
        "colab": {
          "base_uri": "https://localhost:8080/",
          "height": 295
        },
        "id": "8ddnKuW9a7c6",
        "outputId": "05900a9e-8418-4e68-ca2b-457485864ebd"
      },
      "execution_count": 350,
      "outputs": [
        {
          "output_type": "display_data",
          "data": {
            "text/plain": [
              "<Figure size 432x288 with 2 Axes>"
            ],
            "image/png": "[encoded data removed]"
          },
          "metadata": {
            "needs_background": "light"
          }
        }
      ]
    },
    {
      "cell_type": "markdown",
      "source": [
        "**Note:**\n",
        "* You may observe that lower coefficients have a strong dominance over high coefficients.\n",
        "* We can, at least for visualization, normalize each \"row\" (a coefficient) by its own statistics.\n",
        "  * Note that this is different from the normalization that we use in feature extraction for classification, although the concept is similar."
      ],
      "metadata": {
        "id": "nZehufNJeRXs"
      }
    },
    {
      "cell_type": "code",
      "metadata": {
        "id": "jKRZk24yCl0T",
        "outputId": "8b5fb7ad-70e0-47d5-ac07-92644b6206b9",
        "colab": {
          "base_uri": "https://localhost:8080/",
          "height": 295
        }
      },
      "source": [
        "# Scaled visualization\n",
        "from sklearn.preprocessing import scale\n",
        "mfccs2 = scale(mfccs, axis=1)\n",
        "specshow(mfccs2, sr=sound_rate, x_axis='time')\n",
        "plt.xlabel('Time slots (s)')\n",
        "plt.ylabel('Normalized coefficients')\n",
        "plt.title('MFCC')\n",
        "plt.colorbar()\n",
        "plt.show()"
      ],
      "execution_count": 351,
      "outputs": [
        {
          "output_type": "display_data",
          "data": {
            "text/plain": [
              "<Figure size 432x288 with 2 Axes>"
            ],
            "image/png": "[encoded data removed]"
          },
          "metadata": {
            "needs_background": "light"
          }
        }
      ]
    },
    {
      "cell_type": "markdown",
      "metadata": {
        "id": "cdbh-vecMqUz"
      },
      "source": [
        "## Classification"
      ]
    },
    {
      "cell_type": "markdown",
      "source": [
        "### Data loading"
      ],
      "metadata": {
        "id": "DPTIVZEbTc0y"
      }
    },
    {
      "cell_type": "code",
      "metadata": {
        "id": "d4k8oRDxClzh"
      },
      "source": [
        "# Placecholder for feature extractor\n",
        "def identity(input):\n",
        "    return input\n",
        "\n",
        "# Data loader\n",
        "def load_data(feature_extractor=identity, normalize=False):\n",
        "\n",
        "    labels = []\n",
        "    features = []\n",
        "\n",
        "    for f in sorted(os.listdir('./recordings')):\n",
        "        if f.endswith('.wav'):\n",
        "            # Load file and compute the requested features\n",
        "            _, signal = wav.read('./recordings/' + f)\n",
        "            cur_features = feature_extractor(signal)\n",
        "            features.append(cur_features)\n",
        "\n",
        "            # Classes\n",
        "            label = f.split('_')[0]\n",
        "            labels.append(label)\n",
        "\n",
        "    # X: features, y: labels\n",
        "    X_train, X_test, y_train, y_test = train_test_split(features, labels, test_size=0.1, random_state=1)\n",
        "\n",
        "    if normalize:\n",
        "        eps = 0.001\n",
        "        X_train = np.array(X_train)\n",
        "        X_train_mean = X_train.mean(axis=0)\n",
        "        X_train_std = X_train.std(axis=0)\n",
        "        X_train = (X_train - X_train_mean + eps)/(X_train_std + eps)\n",
        "        X_train = [row for row in X_train]\n",
        "\n",
        "        X_test = [row for row in (np.array(X_test) - X_train_mean + eps)/(X_train_std + eps)]\n",
        "\n",
        "    return X_train, X_test, y_train, y_test"
      ],
      "execution_count": 352,
      "outputs": []
    },
    {
      "cell_type": "markdown",
      "source": [
        "### Temporal features"
      ],
      "metadata": {
        "id": "CtJsEkWPww5R"
      }
    },
    {
      "cell_type": "code",
      "metadata": {
        "id": "uOHUUnLAUnbH"
      },
      "source": [
        "def feats_temporal(input, size=1000):\n",
        "    # Remove any values exceeding the given limit\n",
        "    output = input[0:min(size, input.shape[0])]\n",
        "    # Add null values (padding) in order to reach the requested size\n",
        "    output = np.concatenate((output, np.zeros(size-output.shape[0])))\n",
        "    return output"
      ],
      "execution_count": 353,
      "outputs": []
    },
    {
      "cell_type": "markdown",
      "source": [
        "**Note:**\n",
        "* Whatever feature we use, we must make sure that all audios have the same feature length.\n",
        "* This is naturally a problem when it depends on the (variable) duration in seconds.\n",
        "* Here we are arbitrarily truncating all audio tracks to the first 1000 samples, and adding any shorter track with zeros until it reaches 1000 samples.\n",
        "  * By looking at the first example (`sound_data`) we know that an average length for this dataset is more likely around 5000."
      ],
      "metadata": {
        "id": "enlwbaZhkwor"
      }
    },
    {
      "cell_type": "code",
      "metadata": {
        "id": "7zb9UEOEUnbI"
      },
      "source": [
        "# Data loading\n",
        "X_train, X_test, y_train, y_test = load_data(feature_extractor=feats_temporal, normalize=True)"
      ],
      "execution_count": 354,
      "outputs": []
    },
    {
      "cell_type": "code",
      "source": [
        "# Verify the shape of extracted features\n",
        "X_train[0].shape"
      ],
      "metadata": {
        "id": "aBzM9eL7j8jU",
        "colab": {
          "base_uri": "https://localhost:8080/"
        },
        "outputId": "014c5a09-dea9-4af6-883c-a84c8f4911d6"
      },
      "execution_count": 355,
      "outputs": [
        {
          "output_type": "execute_result",
          "data": {
            "text/plain": [
              "(1000,)"
            ]
          },
          "metadata": {},
          "execution_count": 355
        }
      ]
    },
    {
      "cell_type": "code",
      "metadata": {
        "id": "jTIAF0PiUnbJ",
        "colab": {
          "base_uri": "https://localhost:8080/"
        },
        "outputId": "400e7c6d-cb61-4e26-8efd-ab41854821c2"
      },
      "source": [
        "# Parameters to be tested in cross-validation\n",
        "param_grid = {'C': [100, 500, 1000],\n",
        "          'gamma': [0.005, 0.01, 0.1, 0.5, 1.0], }\n",
        "\n",
        "# Support Vector Machine initialization\n",
        "clf = GridSearchCV(SVC(kernel='rbf', class_weight='balanced'), param_grid, cv=2)\n",
        "\n",
        "# Training\n",
        "t0 = time()\n",
        "clf = clf.fit(X_train, y_train)\n",
        "print('Training completed in %0.3fs' % (time() - t0))"
      ],
      "execution_count": 356,
      "outputs": [
        {
          "output_type": "stream",
          "name": "stdout",
          "text": [
            "Training completed in 14.925s\n"
          ]
        }
      ]
    },
    {
      "cell_type": "code",
      "metadata": {
        "id": "ANsAf2vGUnbJ",
        "colab": {
          "base_uri": "https://localhost:8080/"
        },
        "outputId": "33075615-6a9d-44a6-d90d-aa3cbaf9bd99"
      },
      "source": [
        "# Result of the cross validation for parameters selection\n",
        "print('Best parameters combination:')\n",
        "print(' C: '+str(clf.best_estimator_.C))\n",
        "print(' gamma: '+str(clf.best_estimator_.gamma))"
      ],
      "execution_count": 357,
      "outputs": [
        {
          "output_type": "stream",
          "name": "stdout",
          "text": [
            "Best parameters combination:\n",
            " C: 100\n",
            " gamma: 0.005\n"
          ]
        }
      ]
    },
    {
      "cell_type": "code",
      "metadata": {
        "id": "mbHUoT4JUnbK",
        "colab": {
          "base_uri": "https://localhost:8080/"
        },
        "outputId": "e0baa7b4-0cc0-4e4f-a103-ed6676f7edd9"
      },
      "source": [
        "# SVM test\n",
        "y_pred = clf.predict(X_test)\n",
        "print(classification_report(y_test, y_pred))"
      ],
      "execution_count": 358,
      "outputs": [
        {
          "output_type": "stream",
          "name": "stdout",
          "text": [
            "              precision    recall  f1-score   support\n",
            "\n",
            "           0       0.50      0.29      0.37        17\n",
            "           1       0.08      0.20      0.11        10\n",
            "           2       0.43      0.40      0.41        15\n",
            "           3       0.11      0.05      0.07        19\n",
            "           4       0.00      0.00      0.00        11\n",
            "           5       0.13      0.43      0.20        14\n",
            "           6       0.35      0.50      0.41        14\n",
            "           7       0.00      0.00      0.00        19\n",
            "           8       0.25      0.06      0.10        17\n",
            "           9       0.33      0.14      0.20        14\n",
            "\n",
            "    accuracy                           0.20       150\n",
            "   macro avg       0.22      0.21      0.19       150\n",
            "weighted avg       0.22      0.20      0.19       150\n",
            "\n"
          ]
        }
      ]
    },
    {
      "cell_type": "code",
      "source": [
        "# Confusion matrix\n",
        "print('Confusion matrix:')\n",
        "cm = confusion_matrix(y_test, y_pred)\n",
        "plt.imshow(cm, cmap=plt.cm.Blues);\n",
        "plt.xlabel('Ground truth');\n",
        "plt.ylabel('Prediction');"
      ],
      "metadata": {
        "id": "FP3l-d0PUnbK",
        "colab": {
          "base_uri": "https://localhost:8080/",
          "height": 296
        },
        "outputId": "eb3effa3-9965-4cf0-b7c1-b1f7781c7c87"
      },
      "execution_count": 359,
      "outputs": [
        {
          "output_type": "stream",
          "name": "stdout",
          "text": [
            "Confusion matrix:\n"
          ]
        },
        {
          "output_type": "display_data",
          "data": {
            "text/plain": [
              "<Figure size 432x288 with 1 Axes>"
            ],
            "image/png": "[encoded data removed]"
          },
          "metadata": {
            "needs_background": "light"
          }
        }
      ]
    },
    {
      "cell_type": "markdown",
      "source": [
        "**Note:**\n",
        "* The performance of this \"fake\" feature is suboptimal, although already better than some of the simplest hand-crafted features that we defined in the previous excercises."
      ],
      "metadata": {
        "id": "0xGvQF3Emlp4"
      }
    },
    {
      "cell_type": "markdown",
      "source": [
        "### Frequency features (Fourier)"
      ],
      "metadata": {
        "id": "m9BoHsonUo97"
      }
    },
    {
      "cell_type": "code",
      "metadata": {
        "id": "_GNdBlYhUs5x"
      },
      "source": [
        "def feats_fourier(input, size=1000):\n",
        "    input_ft = np.real(rfft(input))\n",
        "    # Remove any values exceeding the given limit\n",
        "    output = input_ft[0:min(size, input_ft.shape[0])]\n",
        "    # Add null values (padding) in order to reach the requested size\n",
        "    output = np.concatenate((output, np.zeros(size-output.shape[0])))\n",
        "    return output"
      ],
      "execution_count": 360,
      "outputs": []
    },
    {
      "cell_type": "markdown",
      "source": [
        "**Note:**\n",
        "* We are fixing the size of this feature to the same arbitary length of 1000, to have a fair comparison.\n",
        "* Note that we crop/pad the vector *after* computing FFT.\n",
        "* Also in this case, it would be more appropriate to study the average length of the data, and select a `size` accordingly."
      ],
      "metadata": {
        "id": "sQZfv1FcnY1_"
      }
    },
    {
      "cell_type": "code",
      "metadata": {
        "id": "R8tO_oXFUs5y"
      },
      "source": [
        "# Data loading\n",
        "X_train, X_test, y_train, y_test = load_data(feature_extractor=feats_fourier, normalize=True)"
      ],
      "execution_count": 361,
      "outputs": []
    },
    {
      "cell_type": "code",
      "source": [
        "# Verify the shape of extracted features\n",
        "X_train[0].shape"
      ],
      "metadata": {
        "id": "qIQIiOp0kCSM",
        "colab": {
          "base_uri": "https://localhost:8080/"
        },
        "outputId": "6c42232f-615c-4f8a-94d4-1b2e990ce974"
      },
      "execution_count": 362,
      "outputs": [
        {
          "output_type": "execute_result",
          "data": {
            "text/plain": [
              "(1000,)"
            ]
          },
          "metadata": {},
          "execution_count": 362
        }
      ]
    },
    {
      "cell_type": "code",
      "metadata": {
        "id": "C67AKJ6hUs5z",
        "colab": {
          "base_uri": "https://localhost:8080/"
        },
        "outputId": "ff6cdb21-5edc-448c-b8d5-295b92c2393c"
      },
      "source": [
        "# Parameters to be tested in cross-validation\n",
        "param_grid = {'C': [100, 500, 1000],\n",
        "          'gamma': [0.005, 0.01, 0.1, 0.5, 1.0], }\n",
        "\n",
        "# Support Vector Machine initialization\n",
        "clf = GridSearchCV(SVC(kernel='rbf', class_weight='balanced'), param_grid, cv=2)\n",
        "\n",
        "# Training\n",
        "t0 = time()\n",
        "clf = clf.fit(X_train, y_train)\n",
        "print('Training completed in %0.3fs' % (time() - t0))"
      ],
      "execution_count": 363,
      "outputs": [
        {
          "output_type": "stream",
          "name": "stdout",
          "text": [
            "Training completed in 14.807s\n"
          ]
        }
      ]
    },
    {
      "cell_type": "code",
      "metadata": {
        "id": "dxoX0zUHUs5z",
        "colab": {
          "base_uri": "https://localhost:8080/"
        },
        "outputId": "b9f8b65e-dbc7-4315-b656-026d8dcd49d7"
      },
      "source": [
        "# Result of the cross validation for parameters selection\n",
        "print('Best parameters combination:')\n",
        "print(' C: '+str(clf.best_estimator_.C))\n",
        "print(' gamma: '+str(clf.best_estimator_.gamma))"
      ],
      "execution_count": 364,
      "outputs": [
        {
          "output_type": "stream",
          "name": "stdout",
          "text": [
            "Best parameters combination:\n",
            " C: 100\n",
            " gamma: 0.005\n"
          ]
        }
      ]
    },
    {
      "cell_type": "code",
      "metadata": {
        "id": "mV4DnVIcUs50",
        "colab": {
          "base_uri": "https://localhost:8080/"
        },
        "outputId": "7af2e0c9-4070-463b-bc2d-65693e49a42c"
      },
      "source": [
        "# SVM test\n",
        "y_pred = clf.predict(X_test)\n",
        "print(classification_report(y_test, y_pred))"
      ],
      "execution_count": 365,
      "outputs": [
        {
          "output_type": "stream",
          "name": "stdout",
          "text": [
            "              precision    recall  f1-score   support\n",
            "\n",
            "           0       0.12      0.06      0.08        17\n",
            "           1       0.06      0.10      0.07        10\n",
            "           2       0.20      0.13      0.16        15\n",
            "           3       0.21      0.21      0.21        19\n",
            "           4       0.11      0.18      0.13        11\n",
            "           5       0.00      0.00      0.00        14\n",
            "           6       0.33      0.07      0.12        14\n",
            "           7       0.40      0.11      0.17        19\n",
            "           8       0.00      0.00      0.00        17\n",
            "           9       0.13      0.57      0.21        14\n",
            "\n",
            "    accuracy                           0.14       150\n",
            "   macro avg       0.16      0.14      0.12       150\n",
            "weighted avg       0.17      0.14      0.12       150\n",
            "\n"
          ]
        }
      ]
    },
    {
      "cell_type": "code",
      "source": [
        "# Confusion matrix\n",
        "print('Confusion matrix:')\n",
        "cm = confusion_matrix(y_test, y_pred)\n",
        "plt.imshow(cm, cmap=plt.cm.Blues);\n",
        "plt.xlabel('Ground truth');\n",
        "plt.ylabel('Prediction');"
      ],
      "metadata": {
        "id": "piGDQEE2Us50",
        "colab": {
          "base_uri": "https://localhost:8080/",
          "height": 296
        },
        "outputId": "b7f23b30-05be-4eb6-fa60-c533ac491575"
      },
      "execution_count": 366,
      "outputs": [
        {
          "output_type": "stream",
          "name": "stdout",
          "text": [
            "Confusion matrix:\n"
          ]
        },
        {
          "output_type": "display_data",
          "data": {
            "text/plain": [
              "<Figure size 432x288 with 1 Axes>"
            ],
            "image/png": "[encoded data removed]"
          },
          "metadata": {
            "needs_background": "light"
          }
        }
      ]
    },
    {
      "cell_type": "markdown",
      "source": [
        "**Note:**\n",
        "* Truncating the first 500 elements of a Fourier representation leads to unusable results.\n",
        "* It is possible that this representation offers greater potential by playing with some hyperparameters.\n",
        "* However, we will use it as short-time Fourier transform (a.k.a. spectrogram)"
      ],
      "metadata": {
        "id": "70xTLi4RoPvD"
      }
    },
    {
      "cell_type": "markdown",
      "source": [
        "### Assignment: classification based on 2D features (Spectrogram, Mel Spectrogram, MFCC)"
      ],
      "metadata": {
        "id": "5Mj-D5IXtXZQ"
      }
    },
    {
      "cell_type": "markdown",
      "source": [
        "Approach:\n",
        "1. Extract the 2-dimensional feature\n",
        "2. Force the feature to have fixed size\n",
        "3. Unroll the 2-dimensional feature into a 1-dimensional vector"
      ],
      "metadata": {
        "id": "9eO8zsLBvlYP"
      }
    },
    {
      "cell_type": "markdown",
      "source": [
        "**Hint:**\n",
        "* For a given feature (e.g. Spectrogram) we still want to fix the feature length, independent of the initial audio track.\n",
        "* Since now we have two dimensions (rows = frequencies, and cols = time blocks), we have to think about both.\n",
        "  * The rows will be fixed by default, assuming fixed parameters for the spectrogram extraction.\n",
        "  * The columns will change, based on the duration of the input track.\n",
        "* Fixing the feature size *after* unrolling to 1 dimension would be easier, but it is conceptually wrong:\n",
        "  * Unrolling two matrices with different columns would distribute the same frequencies in different positions in the vector.\n",
        "  * This would make the classifier unable to reliably \"look\" for a specific sub-feature in a specific position."
      ],
      "metadata": {
        "id": "2q6bRbLJthl-"
      }
    },
    {
      "cell_type": "markdown",
      "source": [
        "### Temporal/Frequency features (spectrogram)"
      ],
      "metadata": {
        "id": "3KhKXdRYUtqS"
      }
    },
    {
      "cell_type": "code",
      "source": [
        "def feats_spectrogram(input, rate=8000, tsize=10):\n",
        "    [spec_freqs, spec_times, spec] = spectrogram(input, fs=rate)\n",
        "    if (tsize > spec.shape[1]):\n",
        "      z = np.zeros((spec.shape[0], tsize-spec.shape[1]))      # dove necessario creo matrice di zeri \n",
        "      spec = np.append(spec, z, axis=1)                       # e ne faccio l'append alla matrice spec\n",
        "    spec = spec[:,0:tsize]                    # ritaglio la parte interessata in funzione di tsize\n",
        "    flat_spec = spec.flatten()                # vettorizzo la matrice\n",
        "    output = flat_spec\n",
        "    \n",
        "    return output"
      ],
      "metadata": {
        "id": "FY0TSowOs5B_"
      },
      "execution_count": 367,
      "outputs": []
    },
    {
      "cell_type": "markdown",
      "source": [
        "**Note:**\n",
        "* Let's use `tsize` as a parameter to control the *temporal* size, i.e. the number of columns in our 2D representation\n",
        "  * This is similar to paramter `size` in the previous 1D features"
      ],
      "metadata": {
        "id": "hRfxwqXPit2J"
      }
    },
    {
      "cell_type": "code",
      "metadata": {
        "id": "cUe7aql4UyJt"
      },
      "source": [
        "# Data loading\n",
        "X_train, X_test, y_train, y_test = load_data(feature_extractor=feats_spectrogram, normalize=True)"
      ],
      "execution_count": 368,
      "outputs": []
    },
    {
      "cell_type": "code",
      "source": [
        "# Verify the shape of extracted features\n",
        "X_train[0].shape"
      ],
      "metadata": {
        "colab": {
          "base_uri": "https://localhost:8080/"
        },
        "id": "ojShh2I4pbTe",
        "outputId": "eaa07bc8-56f3-46c9-8ae4-98a1913ff324"
      },
      "execution_count": 369,
      "outputs": [
        {
          "output_type": "execute_result",
          "data": {
            "text/plain": [
              "(1290,)"
            ]
          },
          "metadata": {},
          "execution_count": 369
        }
      ]
    },
    {
      "cell_type": "code",
      "metadata": {
        "outputId": "d2d0700a-befa-450c-a50d-a4955070a9a3",
        "colab": {
          "base_uri": "https://localhost:8080/"
        },
        "id": "2dGEyB9OUyJu"
      },
      "source": [
        "# Parameters to be tested in cross-validation\n",
        "param_grid = {'C': [100, 500, 1000],\n",
        "          'gamma': [0.005, 0.01, 0.1, 0.5, 1.0], }\n",
        "\n",
        "# Support Vector Machine initialization\n",
        "clf = GridSearchCV(SVC(kernel='rbf', class_weight='balanced'), param_grid, cv=2)\n",
        "\n",
        "# Training\n",
        "t0 = time()\n",
        "clf = clf.fit(X_train, y_train)\n",
        "print('Training completed in %0.3fs' % (time() - t0))"
      ],
      "execution_count": 370,
      "outputs": [
        {
          "output_type": "stream",
          "name": "stdout",
          "text": [
            "Training completed in 17.885s\n"
          ]
        }
      ]
    },
    {
      "cell_type": "code",
      "metadata": {
        "outputId": "5a3b7691-1e8f-41dd-89b6-b23b2a6278d1",
        "colab": {
          "base_uri": "https://localhost:8080/"
        },
        "id": "2VNL2kULUyJu"
      },
      "source": [
        "# Result of the cross validation for parameters selection\n",
        "print('Best parameters combination:')\n",
        "print(' C: '+str(clf.best_estimator_.C))\n",
        "print(' gamma: '+str(clf.best_estimator_.gamma))"
      ],
      "execution_count": 371,
      "outputs": [
        {
          "output_type": "stream",
          "name": "stdout",
          "text": [
            "Best parameters combination:\n",
            " C: 1000\n",
            " gamma: 0.005\n"
          ]
        }
      ]
    },
    {
      "cell_type": "code",
      "metadata": {
        "outputId": "16ed4835-3764-41ce-96aa-b0cff648f4d1",
        "colab": {
          "base_uri": "https://localhost:8080/"
        },
        "id": "fKWAsu53UyJv"
      },
      "source": [
        "# SVM test\n",
        "y_pred = clf.predict(X_test)\n",
        "print(classification_report(y_test, y_pred))"
      ],
      "execution_count": 372,
      "outputs": [
        {
          "output_type": "stream",
          "name": "stdout",
          "text": [
            "              precision    recall  f1-score   support\n",
            "\n",
            "           0       0.83      0.59      0.69        17\n",
            "           1       0.58      0.70      0.64        10\n",
            "           2       0.77      0.67      0.71        15\n",
            "           3       0.65      0.58      0.61        19\n",
            "           4       0.30      0.27      0.29        11\n",
            "           5       0.75      0.64      0.69        14\n",
            "           6       0.18      0.64      0.28        14\n",
            "           7       0.67      0.32      0.43        19\n",
            "           8       0.80      0.24      0.36        17\n",
            "           9       0.67      0.43      0.52        14\n",
            "\n",
            "    accuracy                           0.50       150\n",
            "   macro avg       0.62      0.51      0.52       150\n",
            "weighted avg       0.64      0.50      0.53       150\n",
            "\n"
          ]
        }
      ]
    },
    {
      "cell_type": "code",
      "source": [
        "# Confusion matrix\n",
        "print('Confusion matrix:')\n",
        "cm = confusion_matrix(y_test, y_pred)\n",
        "plt.imshow(cm, cmap=plt.cm.Blues);\n",
        "plt.xlabel('Ground truth');\n",
        "plt.ylabel('Prediction');"
      ],
      "metadata": {
        "colab": {
          "base_uri": "https://localhost:8080/",
          "height": 296
        },
        "outputId": "eaa39591-8f99-4cea-e02e-0d908b8ee222",
        "id": "5pIrh1nBUyJv"
      },
      "execution_count": 373,
      "outputs": [
        {
          "output_type": "stream",
          "name": "stdout",
          "text": [
            "Confusion matrix:\n"
          ]
        },
        {
          "output_type": "display_data",
          "data": {
            "text/plain": [
              "<Figure size 432x288 with 1 Axes>"
            ],
            "image/png": "[encoded data removed]"
          },
          "metadata": {
            "needs_background": "light"
          }
        }
      ]
    },
    {
      "cell_type": "markdown",
      "source": [
        "Tramite spettrogramma con tsize=10 si ottiene una accuracy del 50%. Le cifre 4 e 6 risultano le più problematiche: la prima per recall molto bassa e precision bassa e la seconda per precision molto bassa. Se ne deduce che il classificatore tende troppo ad eticchettare con la cifra 6 e troppo poco ad etichettare con la cifra 4. Risulta quindi che calcolare la FT su piccoli intervalli temporali dell'intera traccia è una scelta effiace."
      ],
      "metadata": {
        "id": "jQIv9LLDB2Fu"
      }
    },
    {
      "cell_type": "markdown",
      "source": [
        "###  Temporal/Frequency features (Mel Spectrogram)"
      ],
      "metadata": {
        "id": "qDV91K0rUzBC"
      }
    },
    {
      "cell_type": "code",
      "source": [
        "def feats_mel(input, rate=8000, tsize=10):\n",
        "    mel = melspectrogram(input*1.0, sr=rate)           \n",
        "    if (tsize > mel.shape[1]):\n",
        "      z = np.zeros((mel.shape[0], tsize-mel.shape[1]))      # dove necessario creo matrice di zeri \n",
        "      mel = np.append(mel, z, axis=1)                       # e ne faccio l'append alla matrice mel\n",
        "    mel = mel[:,0:tsize]                      # ritaglio la parte interessata secondo tsize\n",
        "    flat_mel = mel.flatten()                  # vettorizzo la matrice\n",
        "    output = flat_mel\n",
        "    \n",
        "    return output"
      ],
      "metadata": {
        "id": "k6SQxwzGw68g"
      },
      "execution_count": 374,
      "outputs": []
    },
    {
      "cell_type": "code",
      "metadata": {
        "id": "_Yt1ww_oU1xk",
        "colab": {
          "base_uri": "https://localhost:8080/"
        },
        "outputId": "52353304-0dd9-4afb-afd2-edc09e0fab45"
      },
      "source": [
        "# Data loading\n",
        "X_train, X_test, y_train, y_test = load_data(feature_extractor=feats_mel, normalize=True)"
      ],
      "execution_count": 375,
      "outputs": [
        {
          "output_type": "stream",
          "name": "stderr",
          "text": [
            "/usr/local/lib/python3.8/dist-packages/librosa/core/spectrum.py:222: UserWarning: n_fft=2048 is too small for input signal of length=2033\n",
            "  warnings.warn(\n",
            "/usr/local/lib/python3.8/dist-packages/librosa/core/spectrum.py:222: UserWarning: n_fft=2048 is too small for input signal of length=1963\n",
            "  warnings.warn(\n",
            "/usr/local/lib/python3.8/dist-packages/librosa/core/spectrum.py:222: UserWarning: n_fft=2048 is too small for input signal of length=2007\n",
            "  warnings.warn(\n",
            "/usr/local/lib/python3.8/dist-packages/librosa/core/spectrum.py:222: UserWarning: n_fft=2048 is too small for input signal of length=1976\n",
            "  warnings.warn(\n",
            "/usr/local/lib/python3.8/dist-packages/librosa/core/spectrum.py:222: UserWarning: n_fft=2048 is too small for input signal of length=1987\n",
            "  warnings.warn(\n",
            "/usr/local/lib/python3.8/dist-packages/librosa/core/spectrum.py:222: UserWarning: n_fft=2048 is too small for input signal of length=1886\n",
            "  warnings.warn(\n",
            "/usr/local/lib/python3.8/dist-packages/librosa/core/spectrum.py:222: UserWarning: n_fft=2048 is too small for input signal of length=1842\n",
            "  warnings.warn(\n",
            "/usr/local/lib/python3.8/dist-packages/librosa/core/spectrum.py:222: UserWarning: n_fft=2048 is too small for input signal of length=1753\n",
            "  warnings.warn(\n",
            "/usr/local/lib/python3.8/dist-packages/librosa/core/spectrum.py:222: UserWarning: n_fft=2048 is too small for input signal of length=1870\n",
            "  warnings.warn(\n",
            "/usr/local/lib/python3.8/dist-packages/librosa/core/spectrum.py:222: UserWarning: n_fft=2048 is too small for input signal of length=1813\n",
            "  warnings.warn(\n",
            "/usr/local/lib/python3.8/dist-packages/librosa/core/spectrum.py:222: UserWarning: n_fft=2048 is too small for input signal of length=1891\n",
            "  warnings.warn(\n",
            "/usr/local/lib/python3.8/dist-packages/librosa/core/spectrum.py:222: UserWarning: n_fft=2048 is too small for input signal of length=1788\n",
            "  warnings.warn(\n",
            "/usr/local/lib/python3.8/dist-packages/librosa/core/spectrum.py:222: UserWarning: n_fft=2048 is too small for input signal of length=1556\n",
            "  warnings.warn(\n",
            "/usr/local/lib/python3.8/dist-packages/librosa/core/spectrum.py:222: UserWarning: n_fft=2048 is too small for input signal of length=1997\n",
            "  warnings.warn(\n",
            "/usr/local/lib/python3.8/dist-packages/librosa/core/spectrum.py:222: UserWarning: n_fft=2048 is too small for input signal of length=1720\n",
            "  warnings.warn(\n",
            "/usr/local/lib/python3.8/dist-packages/librosa/core/spectrum.py:222: UserWarning: n_fft=2048 is too small for input signal of length=1692\n",
            "  warnings.warn(\n",
            "/usr/local/lib/python3.8/dist-packages/librosa/core/spectrum.py:222: UserWarning: n_fft=2048 is too small for input signal of length=1565\n",
            "  warnings.warn(\n",
            "/usr/local/lib/python3.8/dist-packages/librosa/core/spectrum.py:222: UserWarning: n_fft=2048 is too small for input signal of length=1737\n",
            "  warnings.warn(\n",
            "/usr/local/lib/python3.8/dist-packages/librosa/core/spectrum.py:222: UserWarning: n_fft=2048 is too small for input signal of length=1760\n",
            "  warnings.warn(\n",
            "/usr/local/lib/python3.8/dist-packages/librosa/core/spectrum.py:222: UserWarning: n_fft=2048 is too small for input signal of length=1890\n",
            "  warnings.warn(\n",
            "/usr/local/lib/python3.8/dist-packages/librosa/core/spectrum.py:222: UserWarning: n_fft=2048 is too small for input signal of length=2016\n",
            "  warnings.warn(\n",
            "/usr/local/lib/python3.8/dist-packages/librosa/core/spectrum.py:222: UserWarning: n_fft=2048 is too small for input signal of length=1493\n",
            "  warnings.warn(\n",
            "/usr/local/lib/python3.8/dist-packages/librosa/core/spectrum.py:222: UserWarning: n_fft=2048 is too small for input signal of length=1525\n",
            "  warnings.warn(\n",
            "/usr/local/lib/python3.8/dist-packages/librosa/core/spectrum.py:222: UserWarning: n_fft=2048 is too small for input signal of length=1742\n",
            "  warnings.warn(\n",
            "/usr/local/lib/python3.8/dist-packages/librosa/core/spectrum.py:222: UserWarning: n_fft=2048 is too small for input signal of length=1866\n",
            "  warnings.warn(\n",
            "/usr/local/lib/python3.8/dist-packages/librosa/core/spectrum.py:222: UserWarning: n_fft=2048 is too small for input signal of length=1914\n",
            "  warnings.warn(\n",
            "/usr/local/lib/python3.8/dist-packages/librosa/core/spectrum.py:222: UserWarning: n_fft=2048 is too small for input signal of length=1568\n",
            "  warnings.warn(\n",
            "/usr/local/lib/python3.8/dist-packages/librosa/core/spectrum.py:222: UserWarning: n_fft=2048 is too small for input signal of length=1627\n",
            "  warnings.warn(\n",
            "/usr/local/lib/python3.8/dist-packages/librosa/core/spectrum.py:222: UserWarning: n_fft=2048 is too small for input signal of length=1772\n",
            "  warnings.warn(\n",
            "/usr/local/lib/python3.8/dist-packages/librosa/core/spectrum.py:222: UserWarning: n_fft=2048 is too small for input signal of length=1597\n",
            "  warnings.warn(\n",
            "/usr/local/lib/python3.8/dist-packages/librosa/core/spectrum.py:222: UserWarning: n_fft=2048 is too small for input signal of length=1801\n",
            "  warnings.warn(\n",
            "/usr/local/lib/python3.8/dist-packages/librosa/core/spectrum.py:222: UserWarning: n_fft=2048 is too small for input signal of length=1475\n",
            "  warnings.warn(\n",
            "/usr/local/lib/python3.8/dist-packages/librosa/core/spectrum.py:222: UserWarning: n_fft=2048 is too small for input signal of length=1852\n",
            "  warnings.warn(\n",
            "/usr/local/lib/python3.8/dist-packages/librosa/core/spectrum.py:222: UserWarning: n_fft=2048 is too small for input signal of length=1953\n",
            "  warnings.warn(\n",
            "/usr/local/lib/python3.8/dist-packages/librosa/core/spectrum.py:222: UserWarning: n_fft=2048 is too small for input signal of length=1819\n",
            "  warnings.warn(\n",
            "/usr/local/lib/python3.8/dist-packages/librosa/core/spectrum.py:222: UserWarning: n_fft=2048 is too small for input signal of length=1664\n",
            "  warnings.warn(\n",
            "/usr/local/lib/python3.8/dist-packages/librosa/core/spectrum.py:222: UserWarning: n_fft=2048 is too small for input signal of length=1962\n",
            "  warnings.warn(\n",
            "/usr/local/lib/python3.8/dist-packages/librosa/core/spectrum.py:222: UserWarning: n_fft=2048 is too small for input signal of length=1639\n",
            "  warnings.warn(\n",
            "/usr/local/lib/python3.8/dist-packages/librosa/core/spectrum.py:222: UserWarning: n_fft=2048 is too small for input signal of length=1601\n",
            "  warnings.warn(\n",
            "/usr/local/lib/python3.8/dist-packages/librosa/core/spectrum.py:222: UserWarning: n_fft=2048 is too small for input signal of length=1288\n",
            "  warnings.warn(\n",
            "/usr/local/lib/python3.8/dist-packages/librosa/core/spectrum.py:222: UserWarning: n_fft=2048 is too small for input signal of length=1910\n",
            "  warnings.warn(\n",
            "/usr/local/lib/python3.8/dist-packages/librosa/core/spectrum.py:222: UserWarning: n_fft=2048 is too small for input signal of length=1854\n",
            "  warnings.warn(\n",
            "/usr/local/lib/python3.8/dist-packages/librosa/core/spectrum.py:222: UserWarning: n_fft=2048 is too small for input signal of length=1807\n",
            "  warnings.warn(\n",
            "/usr/local/lib/python3.8/dist-packages/librosa/core/spectrum.py:222: UserWarning: n_fft=2048 is too small for input signal of length=1704\n",
            "  warnings.warn(\n",
            "/usr/local/lib/python3.8/dist-packages/librosa/core/spectrum.py:222: UserWarning: n_fft=2048 is too small for input signal of length=1896\n",
            "  warnings.warn(\n",
            "/usr/local/lib/python3.8/dist-packages/librosa/core/spectrum.py:222: UserWarning: n_fft=2048 is too small for input signal of length=2042\n",
            "  warnings.warn(\n",
            "/usr/local/lib/python3.8/dist-packages/librosa/core/spectrum.py:222: UserWarning: n_fft=2048 is too small for input signal of length=2037\n",
            "  warnings.warn(\n",
            "/usr/local/lib/python3.8/dist-packages/librosa/core/spectrum.py:222: UserWarning: n_fft=2048 is too small for input signal of length=1943\n",
            "  warnings.warn(\n",
            "/usr/local/lib/python3.8/dist-packages/librosa/core/spectrum.py:222: UserWarning: n_fft=2048 is too small for input signal of length=1640\n",
            "  warnings.warn(\n",
            "/usr/local/lib/python3.8/dist-packages/librosa/core/spectrum.py:222: UserWarning: n_fft=2048 is too small for input signal of length=1547\n",
            "  warnings.warn(\n",
            "/usr/local/lib/python3.8/dist-packages/librosa/core/spectrum.py:222: UserWarning: n_fft=2048 is too small for input signal of length=1516\n",
            "  warnings.warn(\n",
            "/usr/local/lib/python3.8/dist-packages/librosa/core/spectrum.py:222: UserWarning: n_fft=2048 is too small for input signal of length=1609\n",
            "  warnings.warn(\n",
            "/usr/local/lib/python3.8/dist-packages/librosa/core/spectrum.py:222: UserWarning: n_fft=2048 is too small for input signal of length=1455\n",
            "  warnings.warn(\n",
            "/usr/local/lib/python3.8/dist-packages/librosa/core/spectrum.py:222: UserWarning: n_fft=2048 is too small for input signal of length=1650\n",
            "  warnings.warn(\n",
            "/usr/local/lib/python3.8/dist-packages/librosa/core/spectrum.py:222: UserWarning: n_fft=2048 is too small for input signal of length=1960\n",
            "  warnings.warn(\n",
            "/usr/local/lib/python3.8/dist-packages/librosa/core/spectrum.py:222: UserWarning: n_fft=2048 is too small for input signal of length=1837\n",
            "  warnings.warn(\n",
            "/usr/local/lib/python3.8/dist-packages/librosa/core/spectrum.py:222: UserWarning: n_fft=2048 is too small for input signal of length=1712\n",
            "  warnings.warn(\n",
            "/usr/local/lib/python3.8/dist-packages/librosa/core/spectrum.py:222: UserWarning: n_fft=2048 is too small for input signal of length=1774\n",
            "  warnings.warn(\n",
            "/usr/local/lib/python3.8/dist-packages/librosa/core/spectrum.py:222: UserWarning: n_fft=2048 is too small for input signal of length=1884\n",
            "  warnings.warn(\n",
            "/usr/local/lib/python3.8/dist-packages/librosa/core/spectrum.py:222: UserWarning: n_fft=2048 is too small for input signal of length=1805\n",
            "  warnings.warn(\n",
            "/usr/local/lib/python3.8/dist-packages/librosa/core/spectrum.py:222: UserWarning: n_fft=2048 is too small for input signal of length=1713\n",
            "  warnings.warn(\n",
            "/usr/local/lib/python3.8/dist-packages/librosa/core/spectrum.py:222: UserWarning: n_fft=2048 is too small for input signal of length=2023\n",
            "  warnings.warn(\n",
            "/usr/local/lib/python3.8/dist-packages/librosa/core/spectrum.py:222: UserWarning: n_fft=2048 is too small for input signal of length=1915\n",
            "  warnings.warn(\n",
            "/usr/local/lib/python3.8/dist-packages/librosa/core/spectrum.py:222: UserWarning: n_fft=2048 is too small for input signal of length=1931\n",
            "  warnings.warn(\n",
            "/usr/local/lib/python3.8/dist-packages/librosa/core/spectrum.py:222: UserWarning: n_fft=2048 is too small for input signal of length=1793\n",
            "  warnings.warn(\n",
            "/usr/local/lib/python3.8/dist-packages/librosa/core/spectrum.py:222: UserWarning: n_fft=2048 is too small for input signal of length=1824\n",
            "  warnings.warn(\n",
            "/usr/local/lib/python3.8/dist-packages/librosa/core/spectrum.py:222: UserWarning: n_fft=2048 is too small for input signal of length=1579\n",
            "  warnings.warn(\n",
            "/usr/local/lib/python3.8/dist-packages/librosa/core/spectrum.py:222: UserWarning: n_fft=2048 is too small for input signal of length=1817\n",
            "  warnings.warn(\n",
            "/usr/local/lib/python3.8/dist-packages/librosa/core/spectrum.py:222: UserWarning: n_fft=2048 is too small for input signal of length=1876\n",
            "  warnings.warn(\n",
            "/usr/local/lib/python3.8/dist-packages/librosa/core/spectrum.py:222: UserWarning: n_fft=2048 is too small for input signal of length=1958\n",
            "  warnings.warn(\n",
            "/usr/local/lib/python3.8/dist-packages/librosa/core/spectrum.py:222: UserWarning: n_fft=2048 is too small for input signal of length=1560\n",
            "  warnings.warn(\n",
            "/usr/local/lib/python3.8/dist-packages/librosa/core/spectrum.py:222: UserWarning: n_fft=2048 is too small for input signal of length=1795\n",
            "  warnings.warn(\n",
            "/usr/local/lib/python3.8/dist-packages/librosa/core/spectrum.py:222: UserWarning: n_fft=2048 is too small for input signal of length=2036\n",
            "  warnings.warn(\n",
            "/usr/local/lib/python3.8/dist-packages/librosa/core/spectrum.py:222: UserWarning: n_fft=2048 is too small for input signal of length=1846\n",
            "  warnings.warn(\n",
            "/usr/local/lib/python3.8/dist-packages/librosa/core/spectrum.py:222: UserWarning: n_fft=2048 is too small for input signal of length=1803\n",
            "  warnings.warn(\n",
            "/usr/local/lib/python3.8/dist-packages/librosa/core/spectrum.py:222: UserWarning: n_fft=2048 is too small for input signal of length=1945\n",
            "  warnings.warn(\n",
            "/usr/local/lib/python3.8/dist-packages/librosa/core/spectrum.py:222: UserWarning: n_fft=2048 is too small for input signal of length=2001\n",
            "  warnings.warn(\n",
            "/usr/local/lib/python3.8/dist-packages/librosa/core/spectrum.py:222: UserWarning: n_fft=2048 is too small for input signal of length=1832\n",
            "  warnings.warn(\n",
            "/usr/local/lib/python3.8/dist-packages/librosa/core/spectrum.py:222: UserWarning: n_fft=2048 is too small for input signal of length=2039\n",
            "  warnings.warn(\n",
            "/usr/local/lib/python3.8/dist-packages/librosa/core/spectrum.py:222: UserWarning: n_fft=2048 is too small for input signal of length=1873\n",
            "  warnings.warn(\n",
            "/usr/local/lib/python3.8/dist-packages/librosa/core/spectrum.py:222: UserWarning: n_fft=2048 is too small for input signal of length=1632\n",
            "  warnings.warn(\n",
            "/usr/local/lib/python3.8/dist-packages/librosa/core/spectrum.py:222: UserWarning: n_fft=2048 is too small for input signal of length=1806\n",
            "  warnings.warn(\n",
            "/usr/local/lib/python3.8/dist-packages/librosa/core/spectrum.py:222: UserWarning: n_fft=2048 is too small for input signal of length=2022\n",
            "  warnings.warn(\n",
            "/usr/local/lib/python3.8/dist-packages/librosa/core/spectrum.py:222: UserWarning: n_fft=2048 is too small for input signal of length=2014\n",
            "  warnings.warn(\n",
            "/usr/local/lib/python3.8/dist-packages/librosa/core/spectrum.py:222: UserWarning: n_fft=2048 is too small for input signal of length=2045\n",
            "  warnings.warn(\n",
            "/usr/local/lib/python3.8/dist-packages/librosa/core/spectrum.py:222: UserWarning: n_fft=2048 is too small for input signal of length=1790\n",
            "  warnings.warn(\n",
            "/usr/local/lib/python3.8/dist-packages/librosa/core/spectrum.py:222: UserWarning: n_fft=2048 is too small for input signal of length=1705\n",
            "  warnings.warn(\n",
            "/usr/local/lib/python3.8/dist-packages/librosa/core/spectrum.py:222: UserWarning: n_fft=2048 is too small for input signal of length=1673\n",
            "  warnings.warn(\n",
            "/usr/local/lib/python3.8/dist-packages/librosa/core/spectrum.py:222: UserWarning: n_fft=2048 is too small for input signal of length=1970\n",
            "  warnings.warn(\n",
            "/usr/local/lib/python3.8/dist-packages/librosa/core/spectrum.py:222: UserWarning: n_fft=2048 is too small for input signal of length=1722\n",
            "  warnings.warn(\n",
            "/usr/local/lib/python3.8/dist-packages/librosa/core/spectrum.py:222: UserWarning: n_fft=2048 is too small for input signal of length=1850\n",
            "  warnings.warn(\n",
            "/usr/local/lib/python3.8/dist-packages/librosa/core/spectrum.py:222: UserWarning: n_fft=2048 is too small for input signal of length=1843\n",
            "  warnings.warn(\n",
            "/usr/local/lib/python3.8/dist-packages/librosa/core/spectrum.py:222: UserWarning: n_fft=2048 is too small for input signal of length=1778\n",
            "  warnings.warn(\n",
            "/usr/local/lib/python3.8/dist-packages/librosa/core/spectrum.py:222: UserWarning: n_fft=2048 is too small for input signal of length=1433\n",
            "  warnings.warn(\n",
            "/usr/local/lib/python3.8/dist-packages/librosa/core/spectrum.py:222: UserWarning: n_fft=2048 is too small for input signal of length=1296\n",
            "  warnings.warn(\n",
            "/usr/local/lib/python3.8/dist-packages/librosa/core/spectrum.py:222: UserWarning: n_fft=2048 is too small for input signal of length=2012\n",
            "  warnings.warn(\n",
            "/usr/local/lib/python3.8/dist-packages/librosa/core/spectrum.py:222: UserWarning: n_fft=2048 is too small for input signal of length=1911\n",
            "  warnings.warn(\n",
            "/usr/local/lib/python3.8/dist-packages/librosa/core/spectrum.py:222: UserWarning: n_fft=2048 is too small for input signal of length=1569\n",
            "  warnings.warn(\n",
            "/usr/local/lib/python3.8/dist-packages/librosa/core/spectrum.py:222: UserWarning: n_fft=2048 is too small for input signal of length=1973\n",
            "  warnings.warn(\n",
            "/usr/local/lib/python3.8/dist-packages/librosa/core/spectrum.py:222: UserWarning: n_fft=2048 is too small for input signal of length=1434\n",
            "  warnings.warn(\n",
            "/usr/local/lib/python3.8/dist-packages/librosa/core/spectrum.py:222: UserWarning: n_fft=2048 is too small for input signal of length=1295\n",
            "  warnings.warn(\n",
            "/usr/local/lib/python3.8/dist-packages/librosa/core/spectrum.py:222: UserWarning: n_fft=2048 is too small for input signal of length=1403\n",
            "  warnings.warn(\n",
            "/usr/local/lib/python3.8/dist-packages/librosa/core/spectrum.py:222: UserWarning: n_fft=2048 is too small for input signal of length=1634\n",
            "  warnings.warn(\n",
            "/usr/local/lib/python3.8/dist-packages/librosa/core/spectrum.py:222: UserWarning: n_fft=2048 is too small for input signal of length=1357\n",
            "  warnings.warn(\n",
            "/usr/local/lib/python3.8/dist-packages/librosa/core/spectrum.py:222: UserWarning: n_fft=2048 is too small for input signal of length=1968\n",
            "  warnings.warn(\n",
            "/usr/local/lib/python3.8/dist-packages/librosa/core/spectrum.py:222: UserWarning: n_fft=2048 is too small for input signal of length=1593\n",
            "  warnings.warn(\n",
            "/usr/local/lib/python3.8/dist-packages/librosa/core/spectrum.py:222: UserWarning: n_fft=2048 is too small for input signal of length=1913\n",
            "  warnings.warn(\n",
            "/usr/local/lib/python3.8/dist-packages/librosa/core/spectrum.py:222: UserWarning: n_fft=2048 is too small for input signal of length=1149\n",
            "  warnings.warn(\n",
            "/usr/local/lib/python3.8/dist-packages/librosa/core/spectrum.py:222: UserWarning: n_fft=2048 is too small for input signal of length=1610\n",
            "  warnings.warn(\n",
            "/usr/local/lib/python3.8/dist-packages/librosa/core/spectrum.py:222: UserWarning: n_fft=2048 is too small for input signal of length=1259\n",
            "  warnings.warn(\n",
            "/usr/local/lib/python3.8/dist-packages/librosa/core/spectrum.py:222: UserWarning: n_fft=2048 is too small for input signal of length=1978\n",
            "  warnings.warn(\n",
            "/usr/local/lib/python3.8/dist-packages/librosa/core/spectrum.py:222: UserWarning: n_fft=2048 is too small for input signal of length=1965\n",
            "  warnings.warn(\n",
            "/usr/local/lib/python3.8/dist-packages/librosa/core/spectrum.py:222: UserWarning: n_fft=2048 is too small for input signal of length=2020\n",
            "  warnings.warn(\n",
            "/usr/local/lib/python3.8/dist-packages/librosa/core/spectrum.py:222: UserWarning: n_fft=2048 is too small for input signal of length=1998\n",
            "  warnings.warn(\n",
            "/usr/local/lib/python3.8/dist-packages/librosa/core/spectrum.py:222: UserWarning: n_fft=2048 is too small for input signal of length=1858\n",
            "  warnings.warn(\n",
            "/usr/local/lib/python3.8/dist-packages/librosa/core/spectrum.py:222: UserWarning: n_fft=2048 is too small for input signal of length=1936\n",
            "  warnings.warn(\n",
            "/usr/local/lib/python3.8/dist-packages/librosa/core/spectrum.py:222: UserWarning: n_fft=2048 is too small for input signal of length=2015\n",
            "  warnings.warn(\n"
          ]
        }
      ]
    },
    {
      "cell_type": "markdown",
      "source": [
        "**Note:**\n",
        "* The warnings tell us that the default parameters are not fully adequate for the input size."
      ],
      "metadata": {
        "id": "l8ICsvLlpjh0"
      }
    },
    {
      "cell_type": "code",
      "source": [
        "# Verify the shape of extracted features\n",
        "X_train[0].shape"
      ],
      "metadata": {
        "id": "KlmgiKEktfk_",
        "colab": {
          "base_uri": "https://localhost:8080/"
        },
        "outputId": "05cf5943-0dea-4bee-f0c1-56dc6d9155ab"
      },
      "execution_count": 376,
      "outputs": [
        {
          "output_type": "execute_result",
          "data": {
            "text/plain": [
              "(1280,)"
            ]
          },
          "metadata": {},
          "execution_count": 376
        }
      ]
    },
    {
      "cell_type": "code",
      "metadata": {
        "id": "aSEprIISU1xl",
        "colab": {
          "base_uri": "https://localhost:8080/"
        },
        "outputId": "47e96044-e798-4890-e23b-b84f68ac55cd"
      },
      "source": [
        "# Parameters to be tested in cross-validation\n",
        "param_grid = {'C': [100, 500, 1000],\n",
        "          'gamma': [0.005, 0.01, 0.1, 0.5, 1.0], }\n",
        "\n",
        "# Support Vector Machine initialization\n",
        "clf = GridSearchCV(SVC(kernel='rbf', class_weight='balanced'), param_grid, cv=2)\n",
        "\n",
        "# Training\n",
        "t0 = time()\n",
        "clf = clf.fit(X_train, y_train)\n",
        "print('Training completed in %0.3fs' % (time() - t0))"
      ],
      "execution_count": 377,
      "outputs": [
        {
          "output_type": "stream",
          "name": "stdout",
          "text": [
            "Training completed in 16.825s\n"
          ]
        }
      ]
    },
    {
      "cell_type": "code",
      "metadata": {
        "id": "8QE7_j-YU1xl",
        "colab": {
          "base_uri": "https://localhost:8080/"
        },
        "outputId": "49974329-c812-41ff-c68b-ff95ec6379ff"
      },
      "source": [
        "# Result of the cross validation for parameters selection\n",
        "print('Best parameters combination:')\n",
        "print(' C: '+str(clf.best_estimator_.C))\n",
        "print(' gamma: '+str(clf.best_estimator_.gamma))"
      ],
      "execution_count": 378,
      "outputs": [
        {
          "output_type": "stream",
          "name": "stdout",
          "text": [
            "Best parameters combination:\n",
            " C: 1000\n",
            " gamma: 0.005\n"
          ]
        }
      ]
    },
    {
      "cell_type": "code",
      "metadata": {
        "id": "ovDHcEWWU1xl",
        "colab": {
          "base_uri": "https://localhost:8080/"
        },
        "outputId": "acdc619a-deb0-4132-b438-6c6621cd08d2"
      },
      "source": [
        "# SVM test\n",
        "y_pred = clf.predict(X_test)\n",
        "print(classification_report(y_test, y_pred))"
      ],
      "execution_count": 379,
      "outputs": [
        {
          "output_type": "stream",
          "name": "stdout",
          "text": [
            "              precision    recall  f1-score   support\n",
            "\n",
            "           0       0.29      0.94      0.44        17\n",
            "           1       0.67      0.60      0.63        10\n",
            "           2       0.64      0.60      0.62        15\n",
            "           3       0.80      0.63      0.71        19\n",
            "           4       0.44      0.36      0.40        11\n",
            "           5       0.71      0.71      0.71        14\n",
            "           6       0.62      0.36      0.45        14\n",
            "           7       0.83      0.53      0.65        19\n",
            "           8       0.78      0.41      0.54        17\n",
            "           9       0.80      0.29      0.42        14\n",
            "\n",
            "    accuracy                           0.55       150\n",
            "   macro avg       0.66      0.54      0.56       150\n",
            "weighted avg       0.67      0.55      0.56       150\n",
            "\n"
          ]
        }
      ]
    },
    {
      "cell_type": "code",
      "source": [
        "# Confusion matrix\n",
        "print('Confusion matrix:')\n",
        "cm = confusion_matrix(y_test, y_pred)\n",
        "plt.imshow(cm, cmap=plt.cm.Blues);\n",
        "plt.xlabel('Ground truth');\n",
        "plt.ylabel('Prediction');"
      ],
      "metadata": {
        "id": "AoF3FedfU1xl",
        "colab": {
          "base_uri": "https://localhost:8080/",
          "height": 296
        },
        "outputId": "9f49f0f5-f025-4799-8df0-5dec9b7bb7be"
      },
      "execution_count": 380,
      "outputs": [
        {
          "output_type": "stream",
          "name": "stdout",
          "text": [
            "Confusion matrix:\n"
          ]
        },
        {
          "output_type": "display_data",
          "data": {
            "text/plain": [
              "<Figure size 432x288 with 1 Axes>"
            ],
            "image/png": "[encoded data removed]"
          },
          "metadata": {
            "needs_background": "light"
          }
        }
      ]
    },
    {
      "cell_type": "markdown",
      "source": [
        "Tramite spettrogramma di Mel con tsize=10 si ottiene una accuracy del 55%. Le cifre 0, 4 e 9 risultano le più problematiche: le ultime due per recall molto bassa e la prima per precision molto bassa. Se ne deduce che il classificatore tende troppo ad eticchettare con la cifra 0 e troppo poco ad etichettare con la cifra 4 e 9. Rispetto al semplice spettrogramma le performance salgono di qualche punto. Questo perchè ci si concentra maggiormente sulle frequenze più basse, così come il sistema orecchio-cervello umano."
      ],
      "metadata": {
        "id": "dVFSQzanDExn"
      }
    },
    {
      "cell_type": "markdown",
      "metadata": {
        "id": "IDRUW6JkCl0V"
      },
      "source": [
        "### Cepstral features (MFCC)"
      ]
    },
    {
      "cell_type": "code",
      "source": [
        "def feats_mfcc(input, rate=8000, tsize=10):\n",
        "    mfccs = mfcc(input*1.0, sr=rate)              \n",
        "    if (tsize > mfccs.shape[1]):\n",
        "      z = np.zeros((mfccs.shape[0], tsize-mfccs.shape[1]))      # dove necessario creo matrice di zeri \n",
        "      mfccs = np.append(mfccs, z, axis=1)                       # e ne faccio l'append alla matrice mfccs\n",
        "    mfccs = mfccs[:,0:tsize]                  # ritaglio la parte interessata secondo tsize\n",
        "    flat_mfccs = mfccs.flatten()              # vettorizzo la matrice\n",
        "    output = flat_mfccs\n",
        "    \n",
        "    return output"
      ],
      "metadata": {
        "id": "aZd7Di3vxDo4"
      },
      "execution_count": 381,
      "outputs": []
    },
    {
      "cell_type": "code",
      "metadata": {
        "id": "qm_foVFUEFly",
        "colab": {
          "base_uri": "https://localhost:8080/"
        },
        "outputId": "591f0005-3552-4a16-a86a-0ca3c917b28c"
      },
      "source": [
        "# Data loading\n",
        "X_train, X_test, y_train, y_test = load_data(feature_extractor=feats_mfcc, normalize=True)"
      ],
      "execution_count": 382,
      "outputs": [
        {
          "output_type": "stream",
          "name": "stderr",
          "text": [
            "/usr/local/lib/python3.8/dist-packages/librosa/core/spectrum.py:222: UserWarning: n_fft=2048 is too small for input signal of length=2033\n",
            "  warnings.warn(\n",
            "/usr/local/lib/python3.8/dist-packages/librosa/core/spectrum.py:222: UserWarning: n_fft=2048 is too small for input signal of length=1963\n",
            "  warnings.warn(\n",
            "/usr/local/lib/python3.8/dist-packages/librosa/core/spectrum.py:222: UserWarning: n_fft=2048 is too small for input signal of length=2007\n",
            "  warnings.warn(\n",
            "/usr/local/lib/python3.8/dist-packages/librosa/core/spectrum.py:222: UserWarning: n_fft=2048 is too small for input signal of length=1976\n",
            "  warnings.warn(\n",
            "/usr/local/lib/python3.8/dist-packages/librosa/core/spectrum.py:222: UserWarning: n_fft=2048 is too small for input signal of length=1987\n",
            "  warnings.warn(\n",
            "/usr/local/lib/python3.8/dist-packages/librosa/core/spectrum.py:222: UserWarning: n_fft=2048 is too small for input signal of length=1886\n",
            "  warnings.warn(\n",
            "/usr/local/lib/python3.8/dist-packages/librosa/core/spectrum.py:222: UserWarning: n_fft=2048 is too small for input signal of length=1842\n",
            "  warnings.warn(\n",
            "/usr/local/lib/python3.8/dist-packages/librosa/core/spectrum.py:222: UserWarning: n_fft=2048 is too small for input signal of length=1753\n",
            "  warnings.warn(\n",
            "/usr/local/lib/python3.8/dist-packages/librosa/core/spectrum.py:222: UserWarning: n_fft=2048 is too small for input signal of length=1870\n",
            "  warnings.warn(\n",
            "/usr/local/lib/python3.8/dist-packages/librosa/core/spectrum.py:222: UserWarning: n_fft=2048 is too small for input signal of length=1813\n",
            "  warnings.warn(\n",
            "/usr/local/lib/python3.8/dist-packages/librosa/core/spectrum.py:222: UserWarning: n_fft=2048 is too small for input signal of length=1891\n",
            "  warnings.warn(\n",
            "/usr/local/lib/python3.8/dist-packages/librosa/core/spectrum.py:222: UserWarning: n_fft=2048 is too small for input signal of length=1788\n",
            "  warnings.warn(\n",
            "/usr/local/lib/python3.8/dist-packages/librosa/core/spectrum.py:222: UserWarning: n_fft=2048 is too small for input signal of length=1556\n",
            "  warnings.warn(\n",
            "/usr/local/lib/python3.8/dist-packages/librosa/core/spectrum.py:222: UserWarning: n_fft=2048 is too small for input signal of length=1997\n",
            "  warnings.warn(\n",
            "/usr/local/lib/python3.8/dist-packages/librosa/core/spectrum.py:222: UserWarning: n_fft=2048 is too small for input signal of length=1720\n",
            "  warnings.warn(\n",
            "/usr/local/lib/python3.8/dist-packages/librosa/core/spectrum.py:222: UserWarning: n_fft=2048 is too small for input signal of length=1692\n",
            "  warnings.warn(\n",
            "/usr/local/lib/python3.8/dist-packages/librosa/core/spectrum.py:222: UserWarning: n_fft=2048 is too small for input signal of length=1565\n",
            "  warnings.warn(\n",
            "/usr/local/lib/python3.8/dist-packages/librosa/core/spectrum.py:222: UserWarning: n_fft=2048 is too small for input signal of length=1737\n",
            "  warnings.warn(\n",
            "/usr/local/lib/python3.8/dist-packages/librosa/core/spectrum.py:222: UserWarning: n_fft=2048 is too small for input signal of length=1760\n",
            "  warnings.warn(\n",
            "/usr/local/lib/python3.8/dist-packages/librosa/core/spectrum.py:222: UserWarning: n_fft=2048 is too small for input signal of length=1890\n",
            "  warnings.warn(\n",
            "/usr/local/lib/python3.8/dist-packages/librosa/core/spectrum.py:222: UserWarning: n_fft=2048 is too small for input signal of length=2016\n",
            "  warnings.warn(\n",
            "/usr/local/lib/python3.8/dist-packages/librosa/core/spectrum.py:222: UserWarning: n_fft=2048 is too small for input signal of length=1493\n",
            "  warnings.warn(\n",
            "/usr/local/lib/python3.8/dist-packages/librosa/core/spectrum.py:222: UserWarning: n_fft=2048 is too small for input signal of length=1525\n",
            "  warnings.warn(\n",
            "/usr/local/lib/python3.8/dist-packages/librosa/core/spectrum.py:222: UserWarning: n_fft=2048 is too small for input signal of length=1742\n",
            "  warnings.warn(\n",
            "/usr/local/lib/python3.8/dist-packages/librosa/core/spectrum.py:222: UserWarning: n_fft=2048 is too small for input signal of length=1866\n",
            "  warnings.warn(\n",
            "/usr/local/lib/python3.8/dist-packages/librosa/core/spectrum.py:222: UserWarning: n_fft=2048 is too small for input signal of length=1914\n",
            "  warnings.warn(\n",
            "/usr/local/lib/python3.8/dist-packages/librosa/core/spectrum.py:222: UserWarning: n_fft=2048 is too small for input signal of length=1568\n",
            "  warnings.warn(\n",
            "/usr/local/lib/python3.8/dist-packages/librosa/core/spectrum.py:222: UserWarning: n_fft=2048 is too small for input signal of length=1627\n",
            "  warnings.warn(\n",
            "/usr/local/lib/python3.8/dist-packages/librosa/core/spectrum.py:222: UserWarning: n_fft=2048 is too small for input signal of length=1772\n",
            "  warnings.warn(\n",
            "/usr/local/lib/python3.8/dist-packages/librosa/core/spectrum.py:222: UserWarning: n_fft=2048 is too small for input signal of length=1597\n",
            "  warnings.warn(\n",
            "/usr/local/lib/python3.8/dist-packages/librosa/core/spectrum.py:222: UserWarning: n_fft=2048 is too small for input signal of length=1801\n",
            "  warnings.warn(\n",
            "/usr/local/lib/python3.8/dist-packages/librosa/core/spectrum.py:222: UserWarning: n_fft=2048 is too small for input signal of length=1475\n",
            "  warnings.warn(\n",
            "/usr/local/lib/python3.8/dist-packages/librosa/core/spectrum.py:222: UserWarning: n_fft=2048 is too small for input signal of length=1852\n",
            "  warnings.warn(\n",
            "/usr/local/lib/python3.8/dist-packages/librosa/core/spectrum.py:222: UserWarning: n_fft=2048 is too small for input signal of length=1953\n",
            "  warnings.warn(\n",
            "/usr/local/lib/python3.8/dist-packages/librosa/core/spectrum.py:222: UserWarning: n_fft=2048 is too small for input signal of length=1819\n",
            "  warnings.warn(\n",
            "/usr/local/lib/python3.8/dist-packages/librosa/core/spectrum.py:222: UserWarning: n_fft=2048 is too small for input signal of length=1664\n",
            "  warnings.warn(\n",
            "/usr/local/lib/python3.8/dist-packages/librosa/core/spectrum.py:222: UserWarning: n_fft=2048 is too small for input signal of length=1962\n",
            "  warnings.warn(\n",
            "/usr/local/lib/python3.8/dist-packages/librosa/core/spectrum.py:222: UserWarning: n_fft=2048 is too small for input signal of length=1639\n",
            "  warnings.warn(\n",
            "/usr/local/lib/python3.8/dist-packages/librosa/core/spectrum.py:222: UserWarning: n_fft=2048 is too small for input signal of length=1601\n",
            "  warnings.warn(\n",
            "/usr/local/lib/python3.8/dist-packages/librosa/core/spectrum.py:222: UserWarning: n_fft=2048 is too small for input signal of length=1288\n",
            "  warnings.warn(\n",
            "/usr/local/lib/python3.8/dist-packages/librosa/core/spectrum.py:222: UserWarning: n_fft=2048 is too small for input signal of length=1910\n",
            "  warnings.warn(\n",
            "/usr/local/lib/python3.8/dist-packages/librosa/core/spectrum.py:222: UserWarning: n_fft=2048 is too small for input signal of length=1854\n",
            "  warnings.warn(\n",
            "/usr/local/lib/python3.8/dist-packages/librosa/core/spectrum.py:222: UserWarning: n_fft=2048 is too small for input signal of length=1807\n",
            "  warnings.warn(\n",
            "/usr/local/lib/python3.8/dist-packages/librosa/core/spectrum.py:222: UserWarning: n_fft=2048 is too small for input signal of length=1704\n",
            "  warnings.warn(\n",
            "/usr/local/lib/python3.8/dist-packages/librosa/core/spectrum.py:222: UserWarning: n_fft=2048 is too small for input signal of length=1896\n",
            "  warnings.warn(\n",
            "/usr/local/lib/python3.8/dist-packages/librosa/core/spectrum.py:222: UserWarning: n_fft=2048 is too small for input signal of length=2042\n",
            "  warnings.warn(\n",
            "/usr/local/lib/python3.8/dist-packages/librosa/core/spectrum.py:222: UserWarning: n_fft=2048 is too small for input signal of length=2037\n",
            "  warnings.warn(\n",
            "/usr/local/lib/python3.8/dist-packages/librosa/core/spectrum.py:222: UserWarning: n_fft=2048 is too small for input signal of length=1943\n",
            "  warnings.warn(\n",
            "/usr/local/lib/python3.8/dist-packages/librosa/core/spectrum.py:222: UserWarning: n_fft=2048 is too small for input signal of length=1640\n",
            "  warnings.warn(\n",
            "/usr/local/lib/python3.8/dist-packages/librosa/core/spectrum.py:222: UserWarning: n_fft=2048 is too small for input signal of length=1547\n",
            "  warnings.warn(\n",
            "/usr/local/lib/python3.8/dist-packages/librosa/core/spectrum.py:222: UserWarning: n_fft=2048 is too small for input signal of length=1516\n",
            "  warnings.warn(\n",
            "/usr/local/lib/python3.8/dist-packages/librosa/core/spectrum.py:222: UserWarning: n_fft=2048 is too small for input signal of length=1609\n",
            "  warnings.warn(\n",
            "/usr/local/lib/python3.8/dist-packages/librosa/core/spectrum.py:222: UserWarning: n_fft=2048 is too small for input signal of length=1455\n",
            "  warnings.warn(\n",
            "/usr/local/lib/python3.8/dist-packages/librosa/core/spectrum.py:222: UserWarning: n_fft=2048 is too small for input signal of length=1650\n",
            "  warnings.warn(\n",
            "/usr/local/lib/python3.8/dist-packages/librosa/core/spectrum.py:222: UserWarning: n_fft=2048 is too small for input signal of length=1960\n",
            "  warnings.warn(\n",
            "/usr/local/lib/python3.8/dist-packages/librosa/core/spectrum.py:222: UserWarning: n_fft=2048 is too small for input signal of length=1837\n",
            "  warnings.warn(\n",
            "/usr/local/lib/python3.8/dist-packages/librosa/core/spectrum.py:222: UserWarning: n_fft=2048 is too small for input signal of length=1712\n",
            "  warnings.warn(\n",
            "/usr/local/lib/python3.8/dist-packages/librosa/core/spectrum.py:222: UserWarning: n_fft=2048 is too small for input signal of length=1774\n",
            "  warnings.warn(\n",
            "/usr/local/lib/python3.8/dist-packages/librosa/core/spectrum.py:222: UserWarning: n_fft=2048 is too small for input signal of length=1884\n",
            "  warnings.warn(\n",
            "/usr/local/lib/python3.8/dist-packages/librosa/core/spectrum.py:222: UserWarning: n_fft=2048 is too small for input signal of length=1805\n",
            "  warnings.warn(\n",
            "/usr/local/lib/python3.8/dist-packages/librosa/core/spectrum.py:222: UserWarning: n_fft=2048 is too small for input signal of length=1713\n",
            "  warnings.warn(\n",
            "/usr/local/lib/python3.8/dist-packages/librosa/core/spectrum.py:222: UserWarning: n_fft=2048 is too small for input signal of length=2023\n",
            "  warnings.warn(\n",
            "/usr/local/lib/python3.8/dist-packages/librosa/core/spectrum.py:222: UserWarning: n_fft=2048 is too small for input signal of length=1915\n",
            "  warnings.warn(\n",
            "/usr/local/lib/python3.8/dist-packages/librosa/core/spectrum.py:222: UserWarning: n_fft=2048 is too small for input signal of length=1931\n",
            "  warnings.warn(\n",
            "/usr/local/lib/python3.8/dist-packages/librosa/core/spectrum.py:222: UserWarning: n_fft=2048 is too small for input signal of length=1793\n",
            "  warnings.warn(\n",
            "/usr/local/lib/python3.8/dist-packages/librosa/core/spectrum.py:222: UserWarning: n_fft=2048 is too small for input signal of length=1824\n",
            "  warnings.warn(\n",
            "/usr/local/lib/python3.8/dist-packages/librosa/core/spectrum.py:222: UserWarning: n_fft=2048 is too small for input signal of length=1579\n",
            "  warnings.warn(\n",
            "/usr/local/lib/python3.8/dist-packages/librosa/core/spectrum.py:222: UserWarning: n_fft=2048 is too small for input signal of length=1817\n",
            "  warnings.warn(\n",
            "/usr/local/lib/python3.8/dist-packages/librosa/core/spectrum.py:222: UserWarning: n_fft=2048 is too small for input signal of length=1876\n",
            "  warnings.warn(\n",
            "/usr/local/lib/python3.8/dist-packages/librosa/core/spectrum.py:222: UserWarning: n_fft=2048 is too small for input signal of length=1958\n",
            "  warnings.warn(\n",
            "/usr/local/lib/python3.8/dist-packages/librosa/core/spectrum.py:222: UserWarning: n_fft=2048 is too small for input signal of length=1560\n",
            "  warnings.warn(\n",
            "/usr/local/lib/python3.8/dist-packages/librosa/core/spectrum.py:222: UserWarning: n_fft=2048 is too small for input signal of length=1795\n",
            "  warnings.warn(\n",
            "/usr/local/lib/python3.8/dist-packages/librosa/core/spectrum.py:222: UserWarning: n_fft=2048 is too small for input signal of length=2036\n",
            "  warnings.warn(\n",
            "/usr/local/lib/python3.8/dist-packages/librosa/core/spectrum.py:222: UserWarning: n_fft=2048 is too small for input signal of length=1846\n",
            "  warnings.warn(\n",
            "/usr/local/lib/python3.8/dist-packages/librosa/core/spectrum.py:222: UserWarning: n_fft=2048 is too small for input signal of length=1803\n",
            "  warnings.warn(\n",
            "/usr/local/lib/python3.8/dist-packages/librosa/core/spectrum.py:222: UserWarning: n_fft=2048 is too small for input signal of length=1945\n",
            "  warnings.warn(\n",
            "/usr/local/lib/python3.8/dist-packages/librosa/core/spectrum.py:222: UserWarning: n_fft=2048 is too small for input signal of length=2001\n",
            "  warnings.warn(\n",
            "/usr/local/lib/python3.8/dist-packages/librosa/core/spectrum.py:222: UserWarning: n_fft=2048 is too small for input signal of length=1832\n",
            "  warnings.warn(\n",
            "/usr/local/lib/python3.8/dist-packages/librosa/core/spectrum.py:222: UserWarning: n_fft=2048 is too small for input signal of length=2039\n",
            "  warnings.warn(\n",
            "/usr/local/lib/python3.8/dist-packages/librosa/core/spectrum.py:222: UserWarning: n_fft=2048 is too small for input signal of length=1873\n",
            "  warnings.warn(\n",
            "/usr/local/lib/python3.8/dist-packages/librosa/core/spectrum.py:222: UserWarning: n_fft=2048 is too small for input signal of length=1632\n",
            "  warnings.warn(\n",
            "/usr/local/lib/python3.8/dist-packages/librosa/core/spectrum.py:222: UserWarning: n_fft=2048 is too small for input signal of length=1806\n",
            "  warnings.warn(\n",
            "/usr/local/lib/python3.8/dist-packages/librosa/core/spectrum.py:222: UserWarning: n_fft=2048 is too small for input signal of length=2022\n",
            "  warnings.warn(\n",
            "/usr/local/lib/python3.8/dist-packages/librosa/core/spectrum.py:222: UserWarning: n_fft=2048 is too small for input signal of length=2014\n",
            "  warnings.warn(\n",
            "/usr/local/lib/python3.8/dist-packages/librosa/core/spectrum.py:222: UserWarning: n_fft=2048 is too small for input signal of length=2045\n",
            "  warnings.warn(\n",
            "/usr/local/lib/python3.8/dist-packages/librosa/core/spectrum.py:222: UserWarning: n_fft=2048 is too small for input signal of length=1790\n",
            "  warnings.warn(\n",
            "/usr/local/lib/python3.8/dist-packages/librosa/core/spectrum.py:222: UserWarning: n_fft=2048 is too small for input signal of length=1705\n",
            "  warnings.warn(\n",
            "/usr/local/lib/python3.8/dist-packages/librosa/core/spectrum.py:222: UserWarning: n_fft=2048 is too small for input signal of length=1673\n",
            "  warnings.warn(\n",
            "/usr/local/lib/python3.8/dist-packages/librosa/core/spectrum.py:222: UserWarning: n_fft=2048 is too small for input signal of length=1970\n",
            "  warnings.warn(\n",
            "/usr/local/lib/python3.8/dist-packages/librosa/core/spectrum.py:222: UserWarning: n_fft=2048 is too small for input signal of length=1722\n",
            "  warnings.warn(\n",
            "/usr/local/lib/python3.8/dist-packages/librosa/core/spectrum.py:222: UserWarning: n_fft=2048 is too small for input signal of length=1850\n",
            "  warnings.warn(\n",
            "/usr/local/lib/python3.8/dist-packages/librosa/core/spectrum.py:222: UserWarning: n_fft=2048 is too small for input signal of length=1843\n",
            "  warnings.warn(\n",
            "/usr/local/lib/python3.8/dist-packages/librosa/core/spectrum.py:222: UserWarning: n_fft=2048 is too small for input signal of length=1778\n",
            "  warnings.warn(\n",
            "/usr/local/lib/python3.8/dist-packages/librosa/core/spectrum.py:222: UserWarning: n_fft=2048 is too small for input signal of length=1433\n",
            "  warnings.warn(\n",
            "/usr/local/lib/python3.8/dist-packages/librosa/core/spectrum.py:222: UserWarning: n_fft=2048 is too small for input signal of length=1296\n",
            "  warnings.warn(\n",
            "/usr/local/lib/python3.8/dist-packages/librosa/core/spectrum.py:222: UserWarning: n_fft=2048 is too small for input signal of length=2012\n",
            "  warnings.warn(\n",
            "/usr/local/lib/python3.8/dist-packages/librosa/core/spectrum.py:222: UserWarning: n_fft=2048 is too small for input signal of length=1911\n",
            "  warnings.warn(\n",
            "/usr/local/lib/python3.8/dist-packages/librosa/core/spectrum.py:222: UserWarning: n_fft=2048 is too small for input signal of length=1569\n",
            "  warnings.warn(\n",
            "/usr/local/lib/python3.8/dist-packages/librosa/core/spectrum.py:222: UserWarning: n_fft=2048 is too small for input signal of length=1973\n",
            "  warnings.warn(\n",
            "/usr/local/lib/python3.8/dist-packages/librosa/core/spectrum.py:222: UserWarning: n_fft=2048 is too small for input signal of length=1434\n",
            "  warnings.warn(\n",
            "/usr/local/lib/python3.8/dist-packages/librosa/core/spectrum.py:222: UserWarning: n_fft=2048 is too small for input signal of length=1295\n",
            "  warnings.warn(\n",
            "/usr/local/lib/python3.8/dist-packages/librosa/core/spectrum.py:222: UserWarning: n_fft=2048 is too small for input signal of length=1403\n",
            "  warnings.warn(\n",
            "/usr/local/lib/python3.8/dist-packages/librosa/core/spectrum.py:222: UserWarning: n_fft=2048 is too small for input signal of length=1634\n",
            "  warnings.warn(\n",
            "/usr/local/lib/python3.8/dist-packages/librosa/core/spectrum.py:222: UserWarning: n_fft=2048 is too small for input signal of length=1357\n",
            "  warnings.warn(\n",
            "/usr/local/lib/python3.8/dist-packages/librosa/core/spectrum.py:222: UserWarning: n_fft=2048 is too small for input signal of length=1968\n",
            "  warnings.warn(\n",
            "/usr/local/lib/python3.8/dist-packages/librosa/core/spectrum.py:222: UserWarning: n_fft=2048 is too small for input signal of length=1593\n",
            "  warnings.warn(\n",
            "/usr/local/lib/python3.8/dist-packages/librosa/core/spectrum.py:222: UserWarning: n_fft=2048 is too small for input signal of length=1913\n",
            "  warnings.warn(\n",
            "/usr/local/lib/python3.8/dist-packages/librosa/core/spectrum.py:222: UserWarning: n_fft=2048 is too small for input signal of length=1149\n",
            "  warnings.warn(\n",
            "/usr/local/lib/python3.8/dist-packages/librosa/core/spectrum.py:222: UserWarning: n_fft=2048 is too small for input signal of length=1610\n",
            "  warnings.warn(\n",
            "/usr/local/lib/python3.8/dist-packages/librosa/core/spectrum.py:222: UserWarning: n_fft=2048 is too small for input signal of length=1259\n",
            "  warnings.warn(\n",
            "/usr/local/lib/python3.8/dist-packages/librosa/core/spectrum.py:222: UserWarning: n_fft=2048 is too small for input signal of length=1978\n",
            "  warnings.warn(\n",
            "/usr/local/lib/python3.8/dist-packages/librosa/core/spectrum.py:222: UserWarning: n_fft=2048 is too small for input signal of length=1965\n",
            "  warnings.warn(\n",
            "/usr/local/lib/python3.8/dist-packages/librosa/core/spectrum.py:222: UserWarning: n_fft=2048 is too small for input signal of length=2020\n",
            "  warnings.warn(\n",
            "/usr/local/lib/python3.8/dist-packages/librosa/core/spectrum.py:222: UserWarning: n_fft=2048 is too small for input signal of length=1998\n",
            "  warnings.warn(\n",
            "/usr/local/lib/python3.8/dist-packages/librosa/core/spectrum.py:222: UserWarning: n_fft=2048 is too small for input signal of length=1858\n",
            "  warnings.warn(\n",
            "/usr/local/lib/python3.8/dist-packages/librosa/core/spectrum.py:222: UserWarning: n_fft=2048 is too small for input signal of length=1936\n",
            "  warnings.warn(\n",
            "/usr/local/lib/python3.8/dist-packages/librosa/core/spectrum.py:222: UserWarning: n_fft=2048 is too small for input signal of length=2015\n",
            "  warnings.warn(\n"
          ]
        }
      ]
    },
    {
      "cell_type": "code",
      "source": [
        "# Verify the shape of extracted features\n",
        "X_train[0].shape"
      ],
      "metadata": {
        "id": "utVV9pCzx4cz",
        "colab": {
          "base_uri": "https://localhost:8080/"
        },
        "outputId": "be784218-18f4-4125-fb2c-01d0d75dc995"
      },
      "execution_count": 383,
      "outputs": [
        {
          "output_type": "execute_result",
          "data": {
            "text/plain": [
              "(200,)"
            ]
          },
          "metadata": {},
          "execution_count": 383
        }
      ]
    },
    {
      "cell_type": "code",
      "metadata": {
        "id": "Z6z8ZK3GEFlz",
        "colab": {
          "base_uri": "https://localhost:8080/"
        },
        "outputId": "b2851783-0d61-4c76-bf51-3e1c579f07c5"
      },
      "source": [
        "# Parameters to be tested in cross-validation\n",
        "param_grid = {'C': [100, 500, 1000],\n",
        "          'gamma': [0.005, 0.01, 0.1, 0.5, 1.0], }\n",
        "\n",
        "# Support Vector Machine initialization\n",
        "clf = GridSearchCV(SVC(kernel='rbf', class_weight='balanced'), param_grid, cv=2)\n",
        "\n",
        "# Training\n",
        "t0 = time()\n",
        "clf = clf.fit(X_train, y_train)\n",
        "print('Training completed in %0.3fs' % (time() - t0))"
      ],
      "execution_count": 384,
      "outputs": [
        {
          "output_type": "stream",
          "name": "stdout",
          "text": [
            "Training completed in 5.846s\n"
          ]
        }
      ]
    },
    {
      "cell_type": "code",
      "metadata": {
        "id": "rZp7yvBDEFl0",
        "colab": {
          "base_uri": "https://localhost:8080/"
        },
        "outputId": "6e5b56e4-32b3-4bfb-a28d-ede60b10d5e9"
      },
      "source": [
        "# Result of the cross validation for parameters selection\n",
        "print('Best parameters combination:')\n",
        "print(' C: '+str(clf.best_estimator_.C))\n",
        "print(' gamma: '+str(clf.best_estimator_.gamma))"
      ],
      "execution_count": 385,
      "outputs": [
        {
          "output_type": "stream",
          "name": "stdout",
          "text": [
            "Best parameters combination:\n",
            " C: 100\n",
            " gamma: 0.005\n"
          ]
        }
      ]
    },
    {
      "cell_type": "code",
      "metadata": {
        "id": "p74YGGy2EFl0",
        "colab": {
          "base_uri": "https://localhost:8080/"
        },
        "outputId": "46ef8e7e-afac-4dde-ff05-5ec3af7a6609"
      },
      "source": [
        "# SVM test\n",
        "y_pred = clf.predict(X_test)\n",
        "print(classification_report(y_test, y_pred))"
      ],
      "execution_count": 386,
      "outputs": [
        {
          "output_type": "stream",
          "name": "stdout",
          "text": [
            "              precision    recall  f1-score   support\n",
            "\n",
            "           0       1.00      1.00      1.00        17\n",
            "           1       1.00      1.00      1.00        10\n",
            "           2       1.00      1.00      1.00        15\n",
            "           3       1.00      1.00      1.00        19\n",
            "           4       1.00      1.00      1.00        11\n",
            "           5       1.00      1.00      1.00        14\n",
            "           6       1.00      1.00      1.00        14\n",
            "           7       1.00      0.95      0.97        19\n",
            "           8       1.00      1.00      1.00        17\n",
            "           9       0.93      1.00      0.97        14\n",
            "\n",
            "    accuracy                           0.99       150\n",
            "   macro avg       0.99      0.99      0.99       150\n",
            "weighted avg       0.99      0.99      0.99       150\n",
            "\n"
          ]
        }
      ]
    },
    {
      "cell_type": "code",
      "source": [
        "# Confusion matrix\n",
        "print('Confusion matrix:')\n",
        "cm = confusion_matrix(y_test, y_pred)\n",
        "plt.imshow(cm, cmap=plt.cm.Blues);\n",
        "plt.xlabel('Ground truth');\n",
        "plt.ylabel('Prediction');"
      ],
      "metadata": {
        "id": "VtRiyLbXpZ9l",
        "colab": {
          "base_uri": "https://localhost:8080/",
          "height": 296
        },
        "outputId": "90fd29dc-52d1-4321-af45-f9ad4a4cb59b"
      },
      "execution_count": 387,
      "outputs": [
        {
          "output_type": "stream",
          "name": "stdout",
          "text": [
            "Confusion matrix:\n"
          ]
        },
        {
          "output_type": "display_data",
          "data": {
            "text/plain": [
              "<Figure size 432x288 with 1 Axes>"
            ],
            "image/png": "[encoded data removed]"
          },
          "metadata": {
            "needs_background": "light"
          }
        }
      ]
    },
    {
      "cell_type": "markdown",
      "source": [
        "Tramite MFCCs con tsize=10 si ottiene una accuracy del 99%, con nessuno score riguardante le singole cifre significativamente più basso degli altri. Risultati così buoni sono molto probabilmente da inputare al fatto che nel test set sono sempre le stesse persone a pronunciare le cifre che sono state pronunciate per il training set. In definitiva questa feature risulta essere molto efficace, specie se confrontata alla precedenti."
      ],
      "metadata": {
        "id": "9jajtLKvD12r"
      }
    },
    {
      "cell_type": "markdown",
      "source": [
        "**Note:**\n",
        "* For the specific (default) parameters that we adopted in this excercise, MFCC works better than all other features.\n",
        "* However, note that better performance could be obtained also for the other features, with fine tuned parameters.\n",
        "  * The optimization of such parameters is not requested for the assignment."
      ],
      "metadata": {
        "id": "YDv-156FxMLU"
      }
    },
    {
      "cell_type": "markdown",
      "source": [
        "## Assignment recap"
      ],
      "metadata": {
        "id": "h8HkBYt1WvwS"
      }
    },
    {
      "cell_type": "code",
      "source": [
        "def feats_spectrogram(input, rate=8000, tsize=10):\n",
        "    output = input # TODO\n",
        "    return output"
      ],
      "metadata": {
        "id": "RzCMIm-zW7Mp"
      },
      "execution_count": 388,
      "outputs": []
    },
    {
      "cell_type": "code",
      "source": [
        "def feats_mel(input, rate=8000, tsize=10):\n",
        "    output = input # TODO\n",
        "    return output"
      ],
      "metadata": {
        "id": "5NcLXgrhcOkS"
      },
      "execution_count": 389,
      "outputs": []
    },
    {
      "cell_type": "code",
      "source": [
        "def feats_mfcc(input, rate=8000, tsize=10):\n",
        "    output = input # TODO\n",
        "    return output"
      ],
      "metadata": {
        "id": "FZW9uNWLcRfZ"
      },
      "execution_count": 390,
      "outputs": []
    },
    {
      "cell_type": "markdown",
      "source": [
        "# References"
      ],
      "metadata": {
        "id": "r1O726sTXYYt"
      }
    },
    {
      "cell_type": "markdown",
      "source": [
        "Mel spectrogram: https://www.youtube.com/watch?v=9GHCiiDLHQ4<br/>\n",
        "MFCC: https://www.youtube.com/watch?v=4_SH2nfbQZ8"
      ],
      "metadata": {
        "id": "zt6NO-G6Xask"
      }
    }
  ]
}